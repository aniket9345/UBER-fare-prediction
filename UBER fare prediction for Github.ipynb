{
 "cells": [
  {
   "cell_type": "code",
   "execution_count": 1,
   "id": "66127bb3",
   "metadata": {},
   "outputs": [],
   "source": [
    "import pandas as pd\n",
    "import numpy as np\n",
    "import matplotlib.pyplot as plt\n",
    "import seaborn as sns"
   ]
  },
  {
   "cell_type": "code",
   "execution_count": 2,
   "id": "55eb14a1",
   "metadata": {},
   "outputs": [],
   "source": [
    "# importing dataset\n",
    "data=pd.read_csv('uber.csv')"
   ]
  },
  {
   "cell_type": "code",
   "execution_count": 3,
   "id": "0ef8cae6",
   "metadata": {},
   "outputs": [
    {
     "data": {
      "text/html": [
       "<div>\n",
       "<style scoped>\n",
       "    .dataframe tbody tr th:only-of-type {\n",
       "        vertical-align: middle;\n",
       "    }\n",
       "\n",
       "    .dataframe tbody tr th {\n",
       "        vertical-align: top;\n",
       "    }\n",
       "\n",
       "    .dataframe thead th {\n",
       "        text-align: right;\n",
       "    }\n",
       "</style>\n",
       "<table border=\"1\" class=\"dataframe\">\n",
       "  <thead>\n",
       "    <tr style=\"text-align: right;\">\n",
       "      <th></th>\n",
       "      <th>Unnamed: 0</th>\n",
       "      <th>key</th>\n",
       "      <th>fare_amount</th>\n",
       "      <th>pickup_datetime</th>\n",
       "      <th>pickup_longitude</th>\n",
       "      <th>pickup_latitude</th>\n",
       "      <th>dropoff_longitude</th>\n",
       "      <th>dropoff_latitude</th>\n",
       "      <th>passenger_count</th>\n",
       "    </tr>\n",
       "  </thead>\n",
       "  <tbody>\n",
       "    <tr>\n",
       "      <th>0</th>\n",
       "      <td>24238194</td>\n",
       "      <td>2015-05-07 19:52:06.0000003</td>\n",
       "      <td>7.5</td>\n",
       "      <td>2015-05-07 19:52:06 UTC</td>\n",
       "      <td>-73.999817</td>\n",
       "      <td>40.738354</td>\n",
       "      <td>-73.999512</td>\n",
       "      <td>40.723217</td>\n",
       "      <td>1</td>\n",
       "    </tr>\n",
       "    <tr>\n",
       "      <th>1</th>\n",
       "      <td>27835199</td>\n",
       "      <td>2009-07-17 20:04:56.0000002</td>\n",
       "      <td>7.7</td>\n",
       "      <td>2009-07-17 20:04:56 UTC</td>\n",
       "      <td>-73.994355</td>\n",
       "      <td>40.728225</td>\n",
       "      <td>-73.994710</td>\n",
       "      <td>40.750325</td>\n",
       "      <td>1</td>\n",
       "    </tr>\n",
       "    <tr>\n",
       "      <th>2</th>\n",
       "      <td>44984355</td>\n",
       "      <td>2009-08-24 21:45:00.00000061</td>\n",
       "      <td>12.9</td>\n",
       "      <td>2009-08-24 21:45:00 UTC</td>\n",
       "      <td>-74.005043</td>\n",
       "      <td>40.740770</td>\n",
       "      <td>-73.962565</td>\n",
       "      <td>40.772647</td>\n",
       "      <td>1</td>\n",
       "    </tr>\n",
       "    <tr>\n",
       "      <th>3</th>\n",
       "      <td>25894730</td>\n",
       "      <td>2009-06-26 08:22:21.0000001</td>\n",
       "      <td>5.3</td>\n",
       "      <td>2009-06-26 08:22:21 UTC</td>\n",
       "      <td>-73.976124</td>\n",
       "      <td>40.790844</td>\n",
       "      <td>-73.965316</td>\n",
       "      <td>40.803349</td>\n",
       "      <td>3</td>\n",
       "    </tr>\n",
       "    <tr>\n",
       "      <th>4</th>\n",
       "      <td>17610152</td>\n",
       "      <td>2014-08-28 17:47:00.000000188</td>\n",
       "      <td>16.0</td>\n",
       "      <td>2014-08-28 17:47:00 UTC</td>\n",
       "      <td>-73.925023</td>\n",
       "      <td>40.744085</td>\n",
       "      <td>-73.973082</td>\n",
       "      <td>40.761247</td>\n",
       "      <td>5</td>\n",
       "    </tr>\n",
       "  </tbody>\n",
       "</table>\n",
       "</div>"
      ],
      "text/plain": [
       "   Unnamed: 0                            key  fare_amount  \\\n",
       "0    24238194    2015-05-07 19:52:06.0000003          7.5   \n",
       "1    27835199    2009-07-17 20:04:56.0000002          7.7   \n",
       "2    44984355   2009-08-24 21:45:00.00000061         12.9   \n",
       "3    25894730    2009-06-26 08:22:21.0000001          5.3   \n",
       "4    17610152  2014-08-28 17:47:00.000000188         16.0   \n",
       "\n",
       "           pickup_datetime  pickup_longitude  pickup_latitude  \\\n",
       "0  2015-05-07 19:52:06 UTC        -73.999817        40.738354   \n",
       "1  2009-07-17 20:04:56 UTC        -73.994355        40.728225   \n",
       "2  2009-08-24 21:45:00 UTC        -74.005043        40.740770   \n",
       "3  2009-06-26 08:22:21 UTC        -73.976124        40.790844   \n",
       "4  2014-08-28 17:47:00 UTC        -73.925023        40.744085   \n",
       "\n",
       "   dropoff_longitude  dropoff_latitude  passenger_count  \n",
       "0         -73.999512         40.723217                1  \n",
       "1         -73.994710         40.750325                1  \n",
       "2         -73.962565         40.772647                1  \n",
       "3         -73.965316         40.803349                3  \n",
       "4         -73.973082         40.761247                5  "
      ]
     },
     "execution_count": 3,
     "metadata": {},
     "output_type": "execute_result"
    }
   ],
   "source": [
    "data.head()"
   ]
  },
  {
   "cell_type": "code",
   "execution_count": 4,
   "id": "47a562c7",
   "metadata": {},
   "outputs": [
    {
     "data": {
      "text/plain": [
       "(200000, 9)"
      ]
     },
     "execution_count": 4,
     "metadata": {},
     "output_type": "execute_result"
    }
   ],
   "source": [
    "data.shape"
   ]
  },
  {
   "cell_type": "code",
   "execution_count": 5,
   "id": "553c626a",
   "metadata": {},
   "outputs": [
    {
     "name": "stdout",
     "output_type": "stream",
     "text": [
      "<class 'pandas.core.frame.DataFrame'>\n",
      "RangeIndex: 200000 entries, 0 to 199999\n",
      "Data columns (total 9 columns):\n",
      " #   Column             Non-Null Count   Dtype  \n",
      "---  ------             --------------   -----  \n",
      " 0   Unnamed: 0         200000 non-null  int64  \n",
      " 1   key                200000 non-null  object \n",
      " 2   fare_amount        200000 non-null  float64\n",
      " 3   pickup_datetime    200000 non-null  object \n",
      " 4   pickup_longitude   200000 non-null  float64\n",
      " 5   pickup_latitude    200000 non-null  float64\n",
      " 6   dropoff_longitude  199999 non-null  float64\n",
      " 7   dropoff_latitude   199999 non-null  float64\n",
      " 8   passenger_count    200000 non-null  int64  \n",
      "dtypes: float64(5), int64(2), object(2)\n",
      "memory usage: 13.7+ MB\n"
     ]
    }
   ],
   "source": [
    "data.info()"
   ]
  },
  {
   "cell_type": "code",
   "execution_count": 6,
   "id": "becd3feb",
   "metadata": {},
   "outputs": [],
   "source": [
    "data.drop(['Unnamed: 0','key'], axis=1, inplace=True)"
   ]
  },
  {
   "cell_type": "code",
   "execution_count": 7,
   "id": "54d0ec02",
   "metadata": {},
   "outputs": [
    {
     "data": {
      "text/plain": [
       "fare_amount          float64\n",
       "pickup_datetime       object\n",
       "pickup_longitude     float64\n",
       "pickup_latitude      float64\n",
       "dropoff_longitude    float64\n",
       "dropoff_latitude     float64\n",
       "passenger_count        int64\n",
       "dtype: object"
      ]
     },
     "execution_count": 7,
     "metadata": {},
     "output_type": "execute_result"
    }
   ],
   "source": [
    "data.dtypes"
   ]
  },
  {
   "cell_type": "code",
   "execution_count": 8,
   "id": "6a894534",
   "metadata": {},
   "outputs": [
    {
     "data": {
      "text/html": [
       "<div>\n",
       "<style scoped>\n",
       "    .dataframe tbody tr th:only-of-type {\n",
       "        vertical-align: middle;\n",
       "    }\n",
       "\n",
       "    .dataframe tbody tr th {\n",
       "        vertical-align: top;\n",
       "    }\n",
       "\n",
       "    .dataframe thead th {\n",
       "        text-align: right;\n",
       "    }\n",
       "</style>\n",
       "<table border=\"1\" class=\"dataframe\">\n",
       "  <thead>\n",
       "    <tr style=\"text-align: right;\">\n",
       "      <th></th>\n",
       "      <th>fare_amount</th>\n",
       "      <th>pickup_longitude</th>\n",
       "      <th>pickup_latitude</th>\n",
       "      <th>dropoff_longitude</th>\n",
       "      <th>dropoff_latitude</th>\n",
       "      <th>passenger_count</th>\n",
       "    </tr>\n",
       "  </thead>\n",
       "  <tbody>\n",
       "    <tr>\n",
       "      <th>count</th>\n",
       "      <td>200000.000000</td>\n",
       "      <td>200000.000000</td>\n",
       "      <td>200000.000000</td>\n",
       "      <td>199999.000000</td>\n",
       "      <td>199999.000000</td>\n",
       "      <td>200000.000000</td>\n",
       "    </tr>\n",
       "    <tr>\n",
       "      <th>mean</th>\n",
       "      <td>11.359955</td>\n",
       "      <td>-72.527638</td>\n",
       "      <td>39.935885</td>\n",
       "      <td>-72.525292</td>\n",
       "      <td>39.923890</td>\n",
       "      <td>1.684535</td>\n",
       "    </tr>\n",
       "    <tr>\n",
       "      <th>std</th>\n",
       "      <td>9.901776</td>\n",
       "      <td>11.437787</td>\n",
       "      <td>7.720539</td>\n",
       "      <td>13.117408</td>\n",
       "      <td>6.794829</td>\n",
       "      <td>1.385997</td>\n",
       "    </tr>\n",
       "    <tr>\n",
       "      <th>min</th>\n",
       "      <td>-52.000000</td>\n",
       "      <td>-1340.648410</td>\n",
       "      <td>-74.015515</td>\n",
       "      <td>-3356.666300</td>\n",
       "      <td>-881.985513</td>\n",
       "      <td>0.000000</td>\n",
       "    </tr>\n",
       "    <tr>\n",
       "      <th>25%</th>\n",
       "      <td>6.000000</td>\n",
       "      <td>-73.992065</td>\n",
       "      <td>40.734796</td>\n",
       "      <td>-73.991407</td>\n",
       "      <td>40.733823</td>\n",
       "      <td>1.000000</td>\n",
       "    </tr>\n",
       "    <tr>\n",
       "      <th>50%</th>\n",
       "      <td>8.500000</td>\n",
       "      <td>-73.981823</td>\n",
       "      <td>40.752592</td>\n",
       "      <td>-73.980093</td>\n",
       "      <td>40.753042</td>\n",
       "      <td>1.000000</td>\n",
       "    </tr>\n",
       "    <tr>\n",
       "      <th>75%</th>\n",
       "      <td>12.500000</td>\n",
       "      <td>-73.967154</td>\n",
       "      <td>40.767158</td>\n",
       "      <td>-73.963658</td>\n",
       "      <td>40.768001</td>\n",
       "      <td>2.000000</td>\n",
       "    </tr>\n",
       "    <tr>\n",
       "      <th>max</th>\n",
       "      <td>499.000000</td>\n",
       "      <td>57.418457</td>\n",
       "      <td>1644.421482</td>\n",
       "      <td>1153.572603</td>\n",
       "      <td>872.697628</td>\n",
       "      <td>208.000000</td>\n",
       "    </tr>\n",
       "  </tbody>\n",
       "</table>\n",
       "</div>"
      ],
      "text/plain": [
       "         fare_amount  pickup_longitude  pickup_latitude  dropoff_longitude  \\\n",
       "count  200000.000000     200000.000000    200000.000000      199999.000000   \n",
       "mean       11.359955        -72.527638        39.935885         -72.525292   \n",
       "std         9.901776         11.437787         7.720539          13.117408   \n",
       "min       -52.000000      -1340.648410       -74.015515       -3356.666300   \n",
       "25%         6.000000        -73.992065        40.734796         -73.991407   \n",
       "50%         8.500000        -73.981823        40.752592         -73.980093   \n",
       "75%        12.500000        -73.967154        40.767158         -73.963658   \n",
       "max       499.000000         57.418457      1644.421482        1153.572603   \n",
       "\n",
       "       dropoff_latitude  passenger_count  \n",
       "count     199999.000000    200000.000000  \n",
       "mean          39.923890         1.684535  \n",
       "std            6.794829         1.385997  \n",
       "min         -881.985513         0.000000  \n",
       "25%           40.733823         1.000000  \n",
       "50%           40.753042         1.000000  \n",
       "75%           40.768001         2.000000  \n",
       "max          872.697628       208.000000  "
      ]
     },
     "execution_count": 8,
     "metadata": {},
     "output_type": "execute_result"
    }
   ],
   "source": [
    "data.describe()"
   ]
  },
  {
   "cell_type": "code",
   "execution_count": 9,
   "id": "bc382e60",
   "metadata": {},
   "outputs": [
    {
     "data": {
      "text/plain": [
       "fare_amount          0\n",
       "pickup_datetime      0\n",
       "pickup_longitude     0\n",
       "pickup_latitude      0\n",
       "dropoff_longitude    1\n",
       "dropoff_latitude     1\n",
       "passenger_count      0\n",
       "dtype: int64"
      ]
     },
     "execution_count": 9,
     "metadata": {},
     "output_type": "execute_result"
    }
   ],
   "source": [
    "data.isnull().sum()"
   ]
  },
  {
   "cell_type": "code",
   "execution_count": 10,
   "id": "d8ed0626",
   "metadata": {},
   "outputs": [],
   "source": [
    "data.dropna(axis=0, inplace=True)"
   ]
  },
  {
   "cell_type": "code",
   "execution_count": 11,
   "id": "94ec7273",
   "metadata": {},
   "outputs": [
    {
     "data": {
      "text/plain": [
       "fare_amount          0\n",
       "pickup_datetime      0\n",
       "pickup_longitude     0\n",
       "pickup_latitude      0\n",
       "dropoff_longitude    0\n",
       "dropoff_latitude     0\n",
       "passenger_count      0\n",
       "dtype: int64"
      ]
     },
     "execution_count": 11,
     "metadata": {},
     "output_type": "execute_result"
    }
   ],
   "source": [
    "data.isnull().sum()"
   ]
  },
  {
   "cell_type": "code",
   "execution_count": 12,
   "id": "16e18262",
   "metadata": {},
   "outputs": [],
   "source": [
    "data.pickup_datetime=pd.to_datetime(data.pickup_datetime, errors='coerce')"
   ]
  },
  {
   "cell_type": "code",
   "execution_count": 13,
   "id": "feb847bc",
   "metadata": {},
   "outputs": [
    {
     "data": {
      "text/plain": [
       "fare_amount                      float64\n",
       "pickup_datetime      datetime64[ns, UTC]\n",
       "pickup_longitude                 float64\n",
       "pickup_latitude                  float64\n",
       "dropoff_longitude                float64\n",
       "dropoff_latitude                 float64\n",
       "passenger_count                    int64\n",
       "dtype: object"
      ]
     },
     "execution_count": 13,
     "metadata": {},
     "output_type": "execute_result"
    }
   ],
   "source": [
    "data.dtypes"
   ]
  },
  {
   "cell_type": "code",
   "execution_count": 14,
   "id": "c0933a5b",
   "metadata": {},
   "outputs": [],
   "source": [
    "data=data.assign(hour=data.pickup_datetime.dt.hour,\n",
    "                 day=data.pickup_datetime.dt.day,\n",
    "                 month=data.pickup_datetime.dt.month,\n",
    "                 year=data.pickup_datetime.dt.year,\n",
    "                 dayofweek=data.pickup_datetime.dt.dayofweek)"
   ]
  },
  {
   "cell_type": "code",
   "execution_count": 15,
   "id": "6619b7c4",
   "metadata": {},
   "outputs": [
    {
     "data": {
      "text/html": [
       "<div>\n",
       "<style scoped>\n",
       "    .dataframe tbody tr th:only-of-type {\n",
       "        vertical-align: middle;\n",
       "    }\n",
       "\n",
       "    .dataframe tbody tr th {\n",
       "        vertical-align: top;\n",
       "    }\n",
       "\n",
       "    .dataframe thead th {\n",
       "        text-align: right;\n",
       "    }\n",
       "</style>\n",
       "<table border=\"1\" class=\"dataframe\">\n",
       "  <thead>\n",
       "    <tr style=\"text-align: right;\">\n",
       "      <th></th>\n",
       "      <th>fare_amount</th>\n",
       "      <th>pickup_datetime</th>\n",
       "      <th>pickup_longitude</th>\n",
       "      <th>pickup_latitude</th>\n",
       "      <th>dropoff_longitude</th>\n",
       "      <th>dropoff_latitude</th>\n",
       "      <th>passenger_count</th>\n",
       "      <th>hour</th>\n",
       "      <th>day</th>\n",
       "      <th>month</th>\n",
       "      <th>year</th>\n",
       "      <th>dayofweek</th>\n",
       "    </tr>\n",
       "  </thead>\n",
       "  <tbody>\n",
       "    <tr>\n",
       "      <th>0</th>\n",
       "      <td>7.5</td>\n",
       "      <td>2015-05-07 19:52:06+00:00</td>\n",
       "      <td>-73.999817</td>\n",
       "      <td>40.738354</td>\n",
       "      <td>-73.999512</td>\n",
       "      <td>40.723217</td>\n",
       "      <td>1</td>\n",
       "      <td>19</td>\n",
       "      <td>7</td>\n",
       "      <td>5</td>\n",
       "      <td>2015</td>\n",
       "      <td>3</td>\n",
       "    </tr>\n",
       "    <tr>\n",
       "      <th>1</th>\n",
       "      <td>7.7</td>\n",
       "      <td>2009-07-17 20:04:56+00:00</td>\n",
       "      <td>-73.994355</td>\n",
       "      <td>40.728225</td>\n",
       "      <td>-73.994710</td>\n",
       "      <td>40.750325</td>\n",
       "      <td>1</td>\n",
       "      <td>20</td>\n",
       "      <td>17</td>\n",
       "      <td>7</td>\n",
       "      <td>2009</td>\n",
       "      <td>4</td>\n",
       "    </tr>\n",
       "    <tr>\n",
       "      <th>2</th>\n",
       "      <td>12.9</td>\n",
       "      <td>2009-08-24 21:45:00+00:00</td>\n",
       "      <td>-74.005043</td>\n",
       "      <td>40.740770</td>\n",
       "      <td>-73.962565</td>\n",
       "      <td>40.772647</td>\n",
       "      <td>1</td>\n",
       "      <td>21</td>\n",
       "      <td>24</td>\n",
       "      <td>8</td>\n",
       "      <td>2009</td>\n",
       "      <td>0</td>\n",
       "    </tr>\n",
       "    <tr>\n",
       "      <th>3</th>\n",
       "      <td>5.3</td>\n",
       "      <td>2009-06-26 08:22:21+00:00</td>\n",
       "      <td>-73.976124</td>\n",
       "      <td>40.790844</td>\n",
       "      <td>-73.965316</td>\n",
       "      <td>40.803349</td>\n",
       "      <td>3</td>\n",
       "      <td>8</td>\n",
       "      <td>26</td>\n",
       "      <td>6</td>\n",
       "      <td>2009</td>\n",
       "      <td>4</td>\n",
       "    </tr>\n",
       "    <tr>\n",
       "      <th>4</th>\n",
       "      <td>16.0</td>\n",
       "      <td>2014-08-28 17:47:00+00:00</td>\n",
       "      <td>-73.925023</td>\n",
       "      <td>40.744085</td>\n",
       "      <td>-73.973082</td>\n",
       "      <td>40.761247</td>\n",
       "      <td>5</td>\n",
       "      <td>17</td>\n",
       "      <td>28</td>\n",
       "      <td>8</td>\n",
       "      <td>2014</td>\n",
       "      <td>3</td>\n",
       "    </tr>\n",
       "  </tbody>\n",
       "</table>\n",
       "</div>"
      ],
      "text/plain": [
       "   fare_amount           pickup_datetime  pickup_longitude  pickup_latitude  \\\n",
       "0          7.5 2015-05-07 19:52:06+00:00        -73.999817        40.738354   \n",
       "1          7.7 2009-07-17 20:04:56+00:00        -73.994355        40.728225   \n",
       "2         12.9 2009-08-24 21:45:00+00:00        -74.005043        40.740770   \n",
       "3          5.3 2009-06-26 08:22:21+00:00        -73.976124        40.790844   \n",
       "4         16.0 2014-08-28 17:47:00+00:00        -73.925023        40.744085   \n",
       "\n",
       "   dropoff_longitude  dropoff_latitude  passenger_count  hour  day  month  \\\n",
       "0         -73.999512         40.723217                1    19    7      5   \n",
       "1         -73.994710         40.750325                1    20   17      7   \n",
       "2         -73.962565         40.772647                1    21   24      8   \n",
       "3         -73.965316         40.803349                3     8   26      6   \n",
       "4         -73.973082         40.761247                5    17   28      8   \n",
       "\n",
       "   year  dayofweek  \n",
       "0  2015          3  \n",
       "1  2009          4  \n",
       "2  2009          0  \n",
       "3  2009          4  \n",
       "4  2014          3  "
      ]
     },
     "execution_count": 15,
     "metadata": {},
     "output_type": "execute_result"
    }
   ],
   "source": [
    "data.head()"
   ]
  },
  {
   "cell_type": "markdown",
   "id": "cf233ae4",
   "metadata": {},
   "source": [
    "now we are going to use Heversine formula to calculate the distance between two points and journey , \n",
    "using the longitude and latitude"
   ]
  },
  {
   "cell_type": "code",
   "execution_count": 16,
   "id": "e1e7acbb",
   "metadata": {},
   "outputs": [],
   "source": [
    "from math import *"
   ]
  },
  {
   "cell_type": "markdown",
   "id": "e6c78a8b",
   "metadata": {},
   "source": [
    "# Heversine formula\n",
    "hav(θ) = sin**2(θ/2)."
   ]
  },
  {
   "cell_type": "code",
   "execution_count": 17,
   "id": "95c34aa9",
   "metadata": {},
   "outputs": [],
   "source": [
    "def distance_transform(longitude1, latitude1, longitude2, latitude2):\n",
    "    travel_dist = []\n",
    "    \n",
    "    for pos in range(len(longitude1)):\n",
    "        long1,lati1,long2,lati2 = map(radians,[longitude1[pos],latitude1[pos],longitude2[pos],latitude2[pos]])\n",
    "        dist_long = long2 - long1\n",
    "        dist_lati = lati2 - lati1\n",
    "        a = sin(dist_lati/2)**2 + cos(lati1) * cos(lati2) * sin(dist_long/2)**2\n",
    "        c = 2 * asin(sqrt(a))*6371\n",
    "        travel_dist.append(c)\n",
    "       \n",
    "    return travel_dist"
   ]
  },
  {
   "cell_type": "code",
   "execution_count": 18,
   "id": "d1d4261e",
   "metadata": {},
   "outputs": [],
   "source": [
    "data['dist_travel_km'] = distance_transform(data['pickup_longitude'].to_numpy(),\n",
    "                                                data['pickup_latitude'].to_numpy(),\n",
    "                                                data['dropoff_longitude'].to_numpy(),\n",
    "                                                data['dropoff_latitude'].to_numpy()\n",
    "                                              )"
   ]
  },
  {
   "cell_type": "code",
   "execution_count": 19,
   "id": "65465f20",
   "metadata": {},
   "outputs": [
    {
     "data": {
      "text/html": [
       "<div>\n",
       "<style scoped>\n",
       "    .dataframe tbody tr th:only-of-type {\n",
       "        vertical-align: middle;\n",
       "    }\n",
       "\n",
       "    .dataframe tbody tr th {\n",
       "        vertical-align: top;\n",
       "    }\n",
       "\n",
       "    .dataframe thead th {\n",
       "        text-align: right;\n",
       "    }\n",
       "</style>\n",
       "<table border=\"1\" class=\"dataframe\">\n",
       "  <thead>\n",
       "    <tr style=\"text-align: right;\">\n",
       "      <th></th>\n",
       "      <th>fare_amount</th>\n",
       "      <th>pickup_datetime</th>\n",
       "      <th>pickup_longitude</th>\n",
       "      <th>pickup_latitude</th>\n",
       "      <th>dropoff_longitude</th>\n",
       "      <th>dropoff_latitude</th>\n",
       "      <th>passenger_count</th>\n",
       "      <th>hour</th>\n",
       "      <th>day</th>\n",
       "      <th>month</th>\n",
       "      <th>year</th>\n",
       "      <th>dayofweek</th>\n",
       "      <th>dist_travel_km</th>\n",
       "    </tr>\n",
       "  </thead>\n",
       "  <tbody>\n",
       "    <tr>\n",
       "      <th>0</th>\n",
       "      <td>7.5</td>\n",
       "      <td>2015-05-07 19:52:06+00:00</td>\n",
       "      <td>-73.999817</td>\n",
       "      <td>40.738354</td>\n",
       "      <td>-73.999512</td>\n",
       "      <td>40.723217</td>\n",
       "      <td>1</td>\n",
       "      <td>19</td>\n",
       "      <td>7</td>\n",
       "      <td>5</td>\n",
       "      <td>2015</td>\n",
       "      <td>3</td>\n",
       "      <td>1.683323</td>\n",
       "    </tr>\n",
       "    <tr>\n",
       "      <th>1</th>\n",
       "      <td>7.7</td>\n",
       "      <td>2009-07-17 20:04:56+00:00</td>\n",
       "      <td>-73.994355</td>\n",
       "      <td>40.728225</td>\n",
       "      <td>-73.994710</td>\n",
       "      <td>40.750325</td>\n",
       "      <td>1</td>\n",
       "      <td>20</td>\n",
       "      <td>17</td>\n",
       "      <td>7</td>\n",
       "      <td>2009</td>\n",
       "      <td>4</td>\n",
       "      <td>2.457590</td>\n",
       "    </tr>\n",
       "    <tr>\n",
       "      <th>2</th>\n",
       "      <td>12.9</td>\n",
       "      <td>2009-08-24 21:45:00+00:00</td>\n",
       "      <td>-74.005043</td>\n",
       "      <td>40.740770</td>\n",
       "      <td>-73.962565</td>\n",
       "      <td>40.772647</td>\n",
       "      <td>1</td>\n",
       "      <td>21</td>\n",
       "      <td>24</td>\n",
       "      <td>8</td>\n",
       "      <td>2009</td>\n",
       "      <td>0</td>\n",
       "      <td>5.036377</td>\n",
       "    </tr>\n",
       "    <tr>\n",
       "      <th>3</th>\n",
       "      <td>5.3</td>\n",
       "      <td>2009-06-26 08:22:21+00:00</td>\n",
       "      <td>-73.976124</td>\n",
       "      <td>40.790844</td>\n",
       "      <td>-73.965316</td>\n",
       "      <td>40.803349</td>\n",
       "      <td>3</td>\n",
       "      <td>8</td>\n",
       "      <td>26</td>\n",
       "      <td>6</td>\n",
       "      <td>2009</td>\n",
       "      <td>4</td>\n",
       "      <td>1.661683</td>\n",
       "    </tr>\n",
       "    <tr>\n",
       "      <th>4</th>\n",
       "      <td>16.0</td>\n",
       "      <td>2014-08-28 17:47:00+00:00</td>\n",
       "      <td>-73.925023</td>\n",
       "      <td>40.744085</td>\n",
       "      <td>-73.973082</td>\n",
       "      <td>40.761247</td>\n",
       "      <td>5</td>\n",
       "      <td>17</td>\n",
       "      <td>28</td>\n",
       "      <td>8</td>\n",
       "      <td>2014</td>\n",
       "      <td>3</td>\n",
       "      <td>4.475450</td>\n",
       "    </tr>\n",
       "  </tbody>\n",
       "</table>\n",
       "</div>"
      ],
      "text/plain": [
       "   fare_amount           pickup_datetime  pickup_longitude  pickup_latitude  \\\n",
       "0          7.5 2015-05-07 19:52:06+00:00        -73.999817        40.738354   \n",
       "1          7.7 2009-07-17 20:04:56+00:00        -73.994355        40.728225   \n",
       "2         12.9 2009-08-24 21:45:00+00:00        -74.005043        40.740770   \n",
       "3          5.3 2009-06-26 08:22:21+00:00        -73.976124        40.790844   \n",
       "4         16.0 2014-08-28 17:47:00+00:00        -73.925023        40.744085   \n",
       "\n",
       "   dropoff_longitude  dropoff_latitude  passenger_count  hour  day  month  \\\n",
       "0         -73.999512         40.723217                1    19    7      5   \n",
       "1         -73.994710         40.750325                1    20   17      7   \n",
       "2         -73.962565         40.772647                1    21   24      8   \n",
       "3         -73.965316         40.803349                3     8   26      6   \n",
       "4         -73.973082         40.761247                5    17   28      8   \n",
       "\n",
       "   year  dayofweek  dist_travel_km  \n",
       "0  2015          3        1.683323  \n",
       "1  2009          4        2.457590  \n",
       "2  2009          0        5.036377  \n",
       "3  2009          4        1.661683  \n",
       "4  2014          3        4.475450  "
      ]
     },
     "execution_count": 19,
     "metadata": {},
     "output_type": "execute_result"
    }
   ],
   "source": [
    "data.head()"
   ]
  },
  {
   "cell_type": "code",
   "execution_count": 20,
   "id": "2a81e5dd",
   "metadata": {},
   "outputs": [
    {
     "data": {
      "text/plain": [
       "199999"
      ]
     },
     "execution_count": 20,
     "metadata": {},
     "output_type": "execute_result"
    }
   ],
   "source": [
    "len(data.pickup_longitude)"
   ]
  },
  {
   "cell_type": "code",
   "execution_count": 21,
   "id": "ea95f287",
   "metadata": {},
   "outputs": [],
   "source": [
    "data=data.drop('pickup_datetime', axis=1)"
   ]
  },
  {
   "cell_type": "code",
   "execution_count": 22,
   "id": "16525b69",
   "metadata": {},
   "outputs": [
    {
     "name": "stdout",
     "output_type": "stream",
     "text": [
      "<class 'pandas.core.frame.DataFrame'>\n",
      "Int64Index: 199999 entries, 0 to 199999\n",
      "Data columns (total 12 columns):\n",
      " #   Column             Non-Null Count   Dtype  \n",
      "---  ------             --------------   -----  \n",
      " 0   fare_amount        199999 non-null  float64\n",
      " 1   pickup_longitude   199999 non-null  float64\n",
      " 2   pickup_latitude    199999 non-null  float64\n",
      " 3   dropoff_longitude  199999 non-null  float64\n",
      " 4   dropoff_latitude   199999 non-null  float64\n",
      " 5   passenger_count    199999 non-null  int64  \n",
      " 6   hour               199999 non-null  int64  \n",
      " 7   day                199999 non-null  int64  \n",
      " 8   month              199999 non-null  int64  \n",
      " 9   year               199999 non-null  int64  \n",
      " 10  dayofweek          199999 non-null  int64  \n",
      " 11  dist_travel_km     199999 non-null  float64\n",
      "dtypes: float64(6), int64(6)\n",
      "memory usage: 19.8 MB\n"
     ]
    }
   ],
   "source": [
    "data.info()"
   ]
  },
  {
   "cell_type": "code",
   "execution_count": 23,
   "id": "f1dac225",
   "metadata": {},
   "outputs": [
    {
     "data": {
      "text/html": [
       "<div>\n",
       "<style scoped>\n",
       "    .dataframe tbody tr th:only-of-type {\n",
       "        vertical-align: middle;\n",
       "    }\n",
       "\n",
       "    .dataframe tbody tr th {\n",
       "        vertical-align: top;\n",
       "    }\n",
       "\n",
       "    .dataframe thead th {\n",
       "        text-align: right;\n",
       "    }\n",
       "</style>\n",
       "<table border=\"1\" class=\"dataframe\">\n",
       "  <thead>\n",
       "    <tr style=\"text-align: right;\">\n",
       "      <th></th>\n",
       "      <th>count</th>\n",
       "      <th>mean</th>\n",
       "      <th>std</th>\n",
       "      <th>min</th>\n",
       "      <th>25%</th>\n",
       "      <th>50%</th>\n",
       "      <th>75%</th>\n",
       "      <th>max</th>\n",
       "    </tr>\n",
       "  </thead>\n",
       "  <tbody>\n",
       "    <tr>\n",
       "      <th>fare_amount</th>\n",
       "      <td>199999.0</td>\n",
       "      <td>11.359892</td>\n",
       "      <td>9.901760</td>\n",
       "      <td>-52.000000</td>\n",
       "      <td>6.000000</td>\n",
       "      <td>8.500000</td>\n",
       "      <td>12.500000</td>\n",
       "      <td>499.000000</td>\n",
       "    </tr>\n",
       "    <tr>\n",
       "      <th>pickup_longitude</th>\n",
       "      <td>199999.0</td>\n",
       "      <td>-72.527631</td>\n",
       "      <td>11.437815</td>\n",
       "      <td>-1340.648410</td>\n",
       "      <td>-73.992065</td>\n",
       "      <td>-73.981823</td>\n",
       "      <td>-73.967154</td>\n",
       "      <td>57.418457</td>\n",
       "    </tr>\n",
       "    <tr>\n",
       "      <th>pickup_latitude</th>\n",
       "      <td>199999.0</td>\n",
       "      <td>39.935881</td>\n",
       "      <td>7.720558</td>\n",
       "      <td>-74.015515</td>\n",
       "      <td>40.734796</td>\n",
       "      <td>40.752592</td>\n",
       "      <td>40.767158</td>\n",
       "      <td>1644.421482</td>\n",
       "    </tr>\n",
       "    <tr>\n",
       "      <th>dropoff_longitude</th>\n",
       "      <td>199999.0</td>\n",
       "      <td>-72.525292</td>\n",
       "      <td>13.117408</td>\n",
       "      <td>-3356.666300</td>\n",
       "      <td>-73.991407</td>\n",
       "      <td>-73.980093</td>\n",
       "      <td>-73.963658</td>\n",
       "      <td>1153.572603</td>\n",
       "    </tr>\n",
       "    <tr>\n",
       "      <th>dropoff_latitude</th>\n",
       "      <td>199999.0</td>\n",
       "      <td>39.923890</td>\n",
       "      <td>6.794829</td>\n",
       "      <td>-881.985513</td>\n",
       "      <td>40.733823</td>\n",
       "      <td>40.753042</td>\n",
       "      <td>40.768001</td>\n",
       "      <td>872.697628</td>\n",
       "    </tr>\n",
       "    <tr>\n",
       "      <th>passenger_count</th>\n",
       "      <td>199999.0</td>\n",
       "      <td>1.684543</td>\n",
       "      <td>1.385995</td>\n",
       "      <td>0.000000</td>\n",
       "      <td>1.000000</td>\n",
       "      <td>1.000000</td>\n",
       "      <td>2.000000</td>\n",
       "      <td>208.000000</td>\n",
       "    </tr>\n",
       "    <tr>\n",
       "      <th>hour</th>\n",
       "      <td>199999.0</td>\n",
       "      <td>13.491387</td>\n",
       "      <td>6.515505</td>\n",
       "      <td>0.000000</td>\n",
       "      <td>9.000000</td>\n",
       "      <td>14.000000</td>\n",
       "      <td>19.000000</td>\n",
       "      <td>23.000000</td>\n",
       "    </tr>\n",
       "    <tr>\n",
       "      <th>day</th>\n",
       "      <td>199999.0</td>\n",
       "      <td>15.704739</td>\n",
       "      <td>8.687377</td>\n",
       "      <td>1.000000</td>\n",
       "      <td>8.000000</td>\n",
       "      <td>16.000000</td>\n",
       "      <td>23.000000</td>\n",
       "      <td>31.000000</td>\n",
       "    </tr>\n",
       "    <tr>\n",
       "      <th>month</th>\n",
       "      <td>199999.0</td>\n",
       "      <td>6.281791</td>\n",
       "      <td>3.438933</td>\n",
       "      <td>1.000000</td>\n",
       "      <td>3.000000</td>\n",
       "      <td>6.000000</td>\n",
       "      <td>9.000000</td>\n",
       "      <td>12.000000</td>\n",
       "    </tr>\n",
       "    <tr>\n",
       "      <th>year</th>\n",
       "      <td>199999.0</td>\n",
       "      <td>2011.742434</td>\n",
       "      <td>1.856400</td>\n",
       "      <td>2009.000000</td>\n",
       "      <td>2010.000000</td>\n",
       "      <td>2012.000000</td>\n",
       "      <td>2013.000000</td>\n",
       "      <td>2015.000000</td>\n",
       "    </tr>\n",
       "    <tr>\n",
       "      <th>dayofweek</th>\n",
       "      <td>199999.0</td>\n",
       "      <td>3.048435</td>\n",
       "      <td>1.946946</td>\n",
       "      <td>0.000000</td>\n",
       "      <td>1.000000</td>\n",
       "      <td>3.000000</td>\n",
       "      <td>5.000000</td>\n",
       "      <td>6.000000</td>\n",
       "    </tr>\n",
       "    <tr>\n",
       "      <th>dist_travel_km</th>\n",
       "      <td>199999.0</td>\n",
       "      <td>20.855350</td>\n",
       "      <td>382.964642</td>\n",
       "      <td>0.000000</td>\n",
       "      <td>1.215222</td>\n",
       "      <td>2.120992</td>\n",
       "      <td>3.875169</td>\n",
       "      <td>16409.239135</td>\n",
       "    </tr>\n",
       "  </tbody>\n",
       "</table>\n",
       "</div>"
      ],
      "text/plain": [
       "                      count         mean         std          min  \\\n",
       "fare_amount        199999.0    11.359892    9.901760   -52.000000   \n",
       "pickup_longitude   199999.0   -72.527631   11.437815 -1340.648410   \n",
       "pickup_latitude    199999.0    39.935881    7.720558   -74.015515   \n",
       "dropoff_longitude  199999.0   -72.525292   13.117408 -3356.666300   \n",
       "dropoff_latitude   199999.0    39.923890    6.794829  -881.985513   \n",
       "passenger_count    199999.0     1.684543    1.385995     0.000000   \n",
       "hour               199999.0    13.491387    6.515505     0.000000   \n",
       "day                199999.0    15.704739    8.687377     1.000000   \n",
       "month              199999.0     6.281791    3.438933     1.000000   \n",
       "year               199999.0  2011.742434    1.856400  2009.000000   \n",
       "dayofweek          199999.0     3.048435    1.946946     0.000000   \n",
       "dist_travel_km     199999.0    20.855350  382.964642     0.000000   \n",
       "\n",
       "                           25%          50%          75%           max  \n",
       "fare_amount           6.000000     8.500000    12.500000    499.000000  \n",
       "pickup_longitude    -73.992065   -73.981823   -73.967154     57.418457  \n",
       "pickup_latitude      40.734796    40.752592    40.767158   1644.421482  \n",
       "dropoff_longitude   -73.991407   -73.980093   -73.963658   1153.572603  \n",
       "dropoff_latitude     40.733823    40.753042    40.768001    872.697628  \n",
       "passenger_count       1.000000     1.000000     2.000000    208.000000  \n",
       "hour                  9.000000    14.000000    19.000000     23.000000  \n",
       "day                   8.000000    16.000000    23.000000     31.000000  \n",
       "month                 3.000000     6.000000     9.000000     12.000000  \n",
       "year               2010.000000  2012.000000  2013.000000   2015.000000  \n",
       "dayofweek             1.000000     3.000000     5.000000      6.000000  \n",
       "dist_travel_km        1.215222     2.120992     3.875169  16409.239135  "
      ]
     },
     "execution_count": 23,
     "metadata": {},
     "output_type": "execute_result"
    }
   ],
   "source": [
    "data.describe().transpose()"
   ]
  },
  {
   "cell_type": "code",
   "execution_count": 24,
   "id": "f2d03241",
   "metadata": {},
   "outputs": [
    {
     "name": "stderr",
     "output_type": "stream",
     "text": [
      "C:\\Users\\BRUCE WAYNE\\Documents\\all about anaconda real\\lib\\site-packages\\seaborn\\_decorators.py:36: FutureWarning: Pass the following variable as a keyword arg: x. From version 0.12, the only valid positional argument will be `data`, and passing other arguments without an explicit keyword will result in an error or misinterpretation.\n",
      "  warnings.warn(\n"
     ]
    },
    {
     "data": {
      "text/plain": [
       "<AxesSubplot:xlabel='pickup_longitude'>"
      ]
     },
     "execution_count": 24,
     "metadata": {},
     "output_type": "execute_result"
    },
    {
     "data": {
      "image/png": "[encoded data removed]",
      "text/plain": [
       "<Figure size 432x288 with 1 Axes>"
      ]
     },
     "metadata": {
      "needs_background": "light"
     },
     "output_type": "display_data"
    }
   ],
   "source": [
    "sns.boxplot(data['pickup_longitude'])"
   ]
  },
  {
   "cell_type": "code",
   "execution_count": 25,
   "id": "fffb16b4",
   "metadata": {
    "scrolled": true
   },
   "outputs": [
    {
     "data": {
      "text/plain": [
       "<AxesSubplot:>"
      ]
     },
     "execution_count": 25,
     "metadata": {},
     "output_type": "execute_result"
    },
    {
     "data": {
      "image/png": "[encoded data removed]",
      "text/plain": [
       "<Figure size 504x504 with 1 Axes>"
      ]
     },
     "metadata": {
      "needs_background": "light"
     },
     "output_type": "display_data"
    }
   ],
   "source": [
    "plt.figure(figsize=(7,7))\n",
    "sns.boxplot(data= data)"
   ]
  },
  {
   "cell_type": "code",
   "execution_count": 26,
   "id": "e0f0e281",
   "metadata": {},
   "outputs": [
    {
     "data": {
      "text/html": [
       "<div>\n",
       "<style scoped>\n",
       "    .dataframe tbody tr th:only-of-type {\n",
       "        vertical-align: middle;\n",
       "    }\n",
       "\n",
       "    .dataframe tbody tr th {\n",
       "        vertical-align: top;\n",
       "    }\n",
       "\n",
       "    .dataframe thead th {\n",
       "        text-align: right;\n",
       "    }\n",
       "</style>\n",
       "<table border=\"1\" class=\"dataframe\">\n",
       "  <thead>\n",
       "    <tr style=\"text-align: right;\">\n",
       "      <th></th>\n",
       "      <th>fare_amount</th>\n",
       "      <th>pickup_longitude</th>\n",
       "      <th>pickup_latitude</th>\n",
       "      <th>dropoff_longitude</th>\n",
       "      <th>dropoff_latitude</th>\n",
       "      <th>passenger_count</th>\n",
       "      <th>hour</th>\n",
       "      <th>day</th>\n",
       "      <th>month</th>\n",
       "      <th>year</th>\n",
       "      <th>dayofweek</th>\n",
       "      <th>dist_travel_km</th>\n",
       "    </tr>\n",
       "  </thead>\n",
       "  <tbody>\n",
       "    <tr>\n",
       "      <th>count</th>\n",
       "      <td>199999.000000</td>\n",
       "      <td>199999.000000</td>\n",
       "      <td>199999.000000</td>\n",
       "      <td>199999.000000</td>\n",
       "      <td>199999.000000</td>\n",
       "      <td>199999.000000</td>\n",
       "      <td>199999.000000</td>\n",
       "      <td>199999.000000</td>\n",
       "      <td>199999.000000</td>\n",
       "      <td>199999.000000</td>\n",
       "      <td>199999.000000</td>\n",
       "      <td>199999.000000</td>\n",
       "    </tr>\n",
       "    <tr>\n",
       "      <th>mean</th>\n",
       "      <td>11.359892</td>\n",
       "      <td>-72.527631</td>\n",
       "      <td>39.935881</td>\n",
       "      <td>-72.525292</td>\n",
       "      <td>39.923890</td>\n",
       "      <td>1.684543</td>\n",
       "      <td>13.491387</td>\n",
       "      <td>15.704739</td>\n",
       "      <td>6.281791</td>\n",
       "      <td>2011.742434</td>\n",
       "      <td>3.048435</td>\n",
       "      <td>20.855350</td>\n",
       "    </tr>\n",
       "    <tr>\n",
       "      <th>std</th>\n",
       "      <td>9.901760</td>\n",
       "      <td>11.437815</td>\n",
       "      <td>7.720558</td>\n",
       "      <td>13.117408</td>\n",
       "      <td>6.794829</td>\n",
       "      <td>1.385995</td>\n",
       "      <td>6.515505</td>\n",
       "      <td>8.687377</td>\n",
       "      <td>3.438933</td>\n",
       "      <td>1.856400</td>\n",
       "      <td>1.946946</td>\n",
       "      <td>382.964642</td>\n",
       "    </tr>\n",
       "    <tr>\n",
       "      <th>min</th>\n",
       "      <td>-52.000000</td>\n",
       "      <td>-1340.648410</td>\n",
       "      <td>-74.015515</td>\n",
       "      <td>-3356.666300</td>\n",
       "      <td>-881.985513</td>\n",
       "      <td>0.000000</td>\n",
       "      <td>0.000000</td>\n",
       "      <td>1.000000</td>\n",
       "      <td>1.000000</td>\n",
       "      <td>2009.000000</td>\n",
       "      <td>0.000000</td>\n",
       "      <td>0.000000</td>\n",
       "    </tr>\n",
       "    <tr>\n",
       "      <th>25%</th>\n",
       "      <td>6.000000</td>\n",
       "      <td>-73.992065</td>\n",
       "      <td>40.734796</td>\n",
       "      <td>-73.991407</td>\n",
       "      <td>40.733823</td>\n",
       "      <td>1.000000</td>\n",
       "      <td>9.000000</td>\n",
       "      <td>8.000000</td>\n",
       "      <td>3.000000</td>\n",
       "      <td>2010.000000</td>\n",
       "      <td>1.000000</td>\n",
       "      <td>1.215222</td>\n",
       "    </tr>\n",
       "    <tr>\n",
       "      <th>50%</th>\n",
       "      <td>8.500000</td>\n",
       "      <td>-73.981823</td>\n",
       "      <td>40.752592</td>\n",
       "      <td>-73.980093</td>\n",
       "      <td>40.753042</td>\n",
       "      <td>1.000000</td>\n",
       "      <td>14.000000</td>\n",
       "      <td>16.000000</td>\n",
       "      <td>6.000000</td>\n",
       "      <td>2012.000000</td>\n",
       "      <td>3.000000</td>\n",
       "      <td>2.120992</td>\n",
       "    </tr>\n",
       "    <tr>\n",
       "      <th>75%</th>\n",
       "      <td>12.500000</td>\n",
       "      <td>-73.967154</td>\n",
       "      <td>40.767158</td>\n",
       "      <td>-73.963658</td>\n",
       "      <td>40.768001</td>\n",
       "      <td>2.000000</td>\n",
       "      <td>19.000000</td>\n",
       "      <td>23.000000</td>\n",
       "      <td>9.000000</td>\n",
       "      <td>2013.000000</td>\n",
       "      <td>5.000000</td>\n",
       "      <td>3.875169</td>\n",
       "    </tr>\n",
       "    <tr>\n",
       "      <th>max</th>\n",
       "      <td>499.000000</td>\n",
       "      <td>57.418457</td>\n",
       "      <td>1644.421482</td>\n",
       "      <td>1153.572603</td>\n",
       "      <td>872.697628</td>\n",
       "      <td>208.000000</td>\n",
       "      <td>23.000000</td>\n",
       "      <td>31.000000</td>\n",
       "      <td>12.000000</td>\n",
       "      <td>2015.000000</td>\n",
       "      <td>6.000000</td>\n",
       "      <td>16409.239135</td>\n",
       "    </tr>\n",
       "  </tbody>\n",
       "</table>\n",
       "</div>"
      ],
      "text/plain": [
       "         fare_amount  pickup_longitude  pickup_latitude  dropoff_longitude  \\\n",
       "count  199999.000000     199999.000000    199999.000000      199999.000000   \n",
       "mean       11.359892        -72.527631        39.935881         -72.525292   \n",
       "std         9.901760         11.437815         7.720558          13.117408   \n",
       "min       -52.000000      -1340.648410       -74.015515       -3356.666300   \n",
       "25%         6.000000        -73.992065        40.734796         -73.991407   \n",
       "50%         8.500000        -73.981823        40.752592         -73.980093   \n",
       "75%        12.500000        -73.967154        40.767158         -73.963658   \n",
       "max       499.000000         57.418457      1644.421482        1153.572603   \n",
       "\n",
       "       dropoff_latitude  passenger_count           hour            day  \\\n",
       "count     199999.000000    199999.000000  199999.000000  199999.000000   \n",
       "mean          39.923890         1.684543      13.491387      15.704739   \n",
       "std            6.794829         1.385995       6.515505       8.687377   \n",
       "min         -881.985513         0.000000       0.000000       1.000000   \n",
       "25%           40.733823         1.000000       9.000000       8.000000   \n",
       "50%           40.753042         1.000000      14.000000      16.000000   \n",
       "75%           40.768001         2.000000      19.000000      23.000000   \n",
       "max          872.697628       208.000000      23.000000      31.000000   \n",
       "\n",
       "               month           year      dayofweek  dist_travel_km  \n",
       "count  199999.000000  199999.000000  199999.000000   199999.000000  \n",
       "mean        6.281791    2011.742434       3.048435       20.855350  \n",
       "std         3.438933       1.856400       1.946946      382.964642  \n",
       "min         1.000000    2009.000000       0.000000        0.000000  \n",
       "25%         3.000000    2010.000000       1.000000        1.215222  \n",
       "50%         6.000000    2012.000000       3.000000        2.120992  \n",
       "75%         9.000000    2013.000000       5.000000        3.875169  \n",
       "max        12.000000    2015.000000       6.000000    16409.239135  "
      ]
     },
     "execution_count": 26,
     "metadata": {},
     "output_type": "execute_result"
    }
   ],
   "source": [
    "data.describe()"
   ]
  },
  {
   "cell_type": "code",
   "execution_count": 27,
   "id": "30207dbd",
   "metadata": {},
   "outputs": [
    {
     "data": {
      "text/html": [
       "<div>\n",
       "<style scoped>\n",
       "    .dataframe tbody tr th:only-of-type {\n",
       "        vertical-align: middle;\n",
       "    }\n",
       "\n",
       "    .dataframe tbody tr th {\n",
       "        vertical-align: top;\n",
       "    }\n",
       "\n",
       "    .dataframe thead th {\n",
       "        text-align: right;\n",
       "    }\n",
       "</style>\n",
       "<table border=\"1\" class=\"dataframe\">\n",
       "  <thead>\n",
       "    <tr style=\"text-align: right;\">\n",
       "      <th></th>\n",
       "      <th>fare_amount</th>\n",
       "      <th>pickup_longitude</th>\n",
       "      <th>pickup_latitude</th>\n",
       "      <th>dropoff_longitude</th>\n",
       "      <th>dropoff_latitude</th>\n",
       "      <th>passenger_count</th>\n",
       "      <th>hour</th>\n",
       "      <th>day</th>\n",
       "      <th>month</th>\n",
       "      <th>year</th>\n",
       "      <th>dayofweek</th>\n",
       "      <th>dist_travel_km</th>\n",
       "    </tr>\n",
       "  </thead>\n",
       "  <tbody>\n",
       "    <tr>\n",
       "      <th>0</th>\n",
       "      <td>7.5</td>\n",
       "      <td>-73.999817</td>\n",
       "      <td>40.738354</td>\n",
       "      <td>-73.999512</td>\n",
       "      <td>40.723217</td>\n",
       "      <td>1</td>\n",
       "      <td>19</td>\n",
       "      <td>7</td>\n",
       "      <td>5</td>\n",
       "      <td>2015</td>\n",
       "      <td>3</td>\n",
       "      <td>1.683323</td>\n",
       "    </tr>\n",
       "    <tr>\n",
       "      <th>1</th>\n",
       "      <td>7.7</td>\n",
       "      <td>-73.994355</td>\n",
       "      <td>40.728225</td>\n",
       "      <td>-73.994710</td>\n",
       "      <td>40.750325</td>\n",
       "      <td>1</td>\n",
       "      <td>20</td>\n",
       "      <td>17</td>\n",
       "      <td>7</td>\n",
       "      <td>2009</td>\n",
       "      <td>4</td>\n",
       "      <td>2.457590</td>\n",
       "    </tr>\n",
       "    <tr>\n",
       "      <th>2</th>\n",
       "      <td>12.9</td>\n",
       "      <td>-74.005043</td>\n",
       "      <td>40.740770</td>\n",
       "      <td>-73.962565</td>\n",
       "      <td>40.772647</td>\n",
       "      <td>1</td>\n",
       "      <td>21</td>\n",
       "      <td>24</td>\n",
       "      <td>8</td>\n",
       "      <td>2009</td>\n",
       "      <td>0</td>\n",
       "      <td>5.036377</td>\n",
       "    </tr>\n",
       "    <tr>\n",
       "      <th>3</th>\n",
       "      <td>5.3</td>\n",
       "      <td>-73.976124</td>\n",
       "      <td>40.790844</td>\n",
       "      <td>-73.965316</td>\n",
       "      <td>40.803349</td>\n",
       "      <td>3</td>\n",
       "      <td>8</td>\n",
       "      <td>26</td>\n",
       "      <td>6</td>\n",
       "      <td>2009</td>\n",
       "      <td>4</td>\n",
       "      <td>1.661683</td>\n",
       "    </tr>\n",
       "    <tr>\n",
       "      <th>4</th>\n",
       "      <td>16.0</td>\n",
       "      <td>-73.925023</td>\n",
       "      <td>40.744085</td>\n",
       "      <td>-73.973082</td>\n",
       "      <td>40.761247</td>\n",
       "      <td>5</td>\n",
       "      <td>17</td>\n",
       "      <td>28</td>\n",
       "      <td>8</td>\n",
       "      <td>2014</td>\n",
       "      <td>3</td>\n",
       "      <td>4.475450</td>\n",
       "    </tr>\n",
       "    <tr>\n",
       "      <th>...</th>\n",
       "      <td>...</td>\n",
       "      <td>...</td>\n",
       "      <td>...</td>\n",
       "      <td>...</td>\n",
       "      <td>...</td>\n",
       "      <td>...</td>\n",
       "      <td>...</td>\n",
       "      <td>...</td>\n",
       "      <td>...</td>\n",
       "      <td>...</td>\n",
       "      <td>...</td>\n",
       "      <td>...</td>\n",
       "    </tr>\n",
       "    <tr>\n",
       "      <th>199995</th>\n",
       "      <td>3.0</td>\n",
       "      <td>-73.987042</td>\n",
       "      <td>40.739367</td>\n",
       "      <td>-73.986525</td>\n",
       "      <td>40.740297</td>\n",
       "      <td>1</td>\n",
       "      <td>10</td>\n",
       "      <td>28</td>\n",
       "      <td>10</td>\n",
       "      <td>2012</td>\n",
       "      <td>6</td>\n",
       "      <td>0.112210</td>\n",
       "    </tr>\n",
       "    <tr>\n",
       "      <th>199996</th>\n",
       "      <td>7.5</td>\n",
       "      <td>-73.984722</td>\n",
       "      <td>40.736837</td>\n",
       "      <td>-74.006672</td>\n",
       "      <td>40.739620</td>\n",
       "      <td>1</td>\n",
       "      <td>1</td>\n",
       "      <td>14</td>\n",
       "      <td>3</td>\n",
       "      <td>2014</td>\n",
       "      <td>4</td>\n",
       "      <td>1.875050</td>\n",
       "    </tr>\n",
       "    <tr>\n",
       "      <th>199997</th>\n",
       "      <td>30.9</td>\n",
       "      <td>-73.986017</td>\n",
       "      <td>40.756487</td>\n",
       "      <td>-73.858957</td>\n",
       "      <td>40.692588</td>\n",
       "      <td>2</td>\n",
       "      <td>0</td>\n",
       "      <td>29</td>\n",
       "      <td>6</td>\n",
       "      <td>2009</td>\n",
       "      <td>0</td>\n",
       "      <td>12.850319</td>\n",
       "    </tr>\n",
       "    <tr>\n",
       "      <th>199998</th>\n",
       "      <td>14.5</td>\n",
       "      <td>-73.997124</td>\n",
       "      <td>40.725452</td>\n",
       "      <td>-73.983215</td>\n",
       "      <td>40.695415</td>\n",
       "      <td>1</td>\n",
       "      <td>14</td>\n",
       "      <td>20</td>\n",
       "      <td>5</td>\n",
       "      <td>2015</td>\n",
       "      <td>2</td>\n",
       "      <td>3.539715</td>\n",
       "    </tr>\n",
       "    <tr>\n",
       "      <th>199999</th>\n",
       "      <td>14.1</td>\n",
       "      <td>-73.984395</td>\n",
       "      <td>40.720077</td>\n",
       "      <td>-73.985508</td>\n",
       "      <td>40.768793</td>\n",
       "      <td>1</td>\n",
       "      <td>4</td>\n",
       "      <td>15</td>\n",
       "      <td>5</td>\n",
       "      <td>2010</td>\n",
       "      <td>5</td>\n",
       "      <td>5.417783</td>\n",
       "    </tr>\n",
       "  </tbody>\n",
       "</table>\n",
       "<p>193922 rows × 12 columns</p>\n",
       "</div>"
      ],
      "text/plain": [
       "        fare_amount  pickup_longitude  pickup_latitude  dropoff_longitude  \\\n",
       "0               7.5        -73.999817        40.738354         -73.999512   \n",
       "1               7.7        -73.994355        40.728225         -73.994710   \n",
       "2              12.9        -74.005043        40.740770         -73.962565   \n",
       "3               5.3        -73.976124        40.790844         -73.965316   \n",
       "4              16.0        -73.925023        40.744085         -73.973082   \n",
       "...             ...               ...              ...                ...   \n",
       "199995          3.0        -73.987042        40.739367         -73.986525   \n",
       "199996          7.5        -73.984722        40.736837         -74.006672   \n",
       "199997         30.9        -73.986017        40.756487         -73.858957   \n",
       "199998         14.5        -73.997124        40.725452         -73.983215   \n",
       "199999         14.1        -73.984395        40.720077         -73.985508   \n",
       "\n",
       "        dropoff_latitude  passenger_count  hour  day  month  year  dayofweek  \\\n",
       "0              40.723217                1    19    7      5  2015          3   \n",
       "1              40.750325                1    20   17      7  2009          4   \n",
       "2              40.772647                1    21   24      8  2009          0   \n",
       "3              40.803349                3     8   26      6  2009          4   \n",
       "4              40.761247                5    17   28      8  2014          3   \n",
       "...                  ...              ...   ...  ...    ...   ...        ...   \n",
       "199995         40.740297                1    10   28     10  2012          6   \n",
       "199996         40.739620                1     1   14      3  2014          4   \n",
       "199997         40.692588                2     0   29      6  2009          0   \n",
       "199998         40.695415                1    14   20      5  2015          2   \n",
       "199999         40.768793                1     4   15      5  2010          5   \n",
       "\n",
       "        dist_travel_km  \n",
       "0             1.683323  \n",
       "1             2.457590  \n",
       "2             5.036377  \n",
       "3             1.661683  \n",
       "4             4.475450  \n",
       "...                ...  \n",
       "199995        0.112210  \n",
       "199996        1.875050  \n",
       "199997       12.850319  \n",
       "199998        3.539715  \n",
       "199999        5.417783  \n",
       "\n",
       "[193922 rows x 12 columns]"
      ]
     },
     "execution_count": 27,
     "metadata": {},
     "output_type": "execute_result"
    }
   ],
   "source": [
    "data=data[(data.dist_travel_km > 0 ) & (data.dist_travel_km < 130)]\n",
    "data"
   ]
  },
  {
   "cell_type": "code",
   "execution_count": 28,
   "id": "e9092e61",
   "metadata": {},
   "outputs": [
    {
     "data": {
      "text/plain": [
       "129.6100937611333"
      ]
     },
     "execution_count": 28,
     "metadata": {},
     "output_type": "execute_result"
    }
   ],
   "source": [
    "data.dist_travel_km.max()"
   ]
  },
  {
   "cell_type": "code",
   "execution_count": 29,
   "id": "de30cf6b",
   "metadata": {},
   "outputs": [
    {
     "data": {
      "text/plain": [
       "8.419568071893166e-05"
      ]
     },
     "execution_count": 29,
     "metadata": {},
     "output_type": "execute_result"
    }
   ],
   "source": [
    "data.dist_travel_km.min()"
   ]
  },
  {
   "cell_type": "code",
   "execution_count": 30,
   "id": "b338ac98",
   "metadata": {},
   "outputs": [],
   "source": [
    "incorrect_coordinates = data.loc[(data.pickup_latitude > 90) |(data.pickup_latitude < -90) |\n",
    "                                   (data.dropoff_latitude > 90) |(data.dropoff_latitude < -90) |\n",
    "                                   (data.pickup_longitude > 180) |(data.pickup_longitude < -180) |\n",
    "                                   (data.dropoff_longitude > 90) |(data.dropoff_longitude < -90)\n",
    "                                    ]"
   ]
  },
  {
   "cell_type": "code",
   "execution_count": 31,
   "id": "95eece65",
   "metadata": {},
   "outputs": [
    {
     "data": {
      "text/html": [
       "<div>\n",
       "<style scoped>\n",
       "    .dataframe tbody tr th:only-of-type {\n",
       "        vertical-align: middle;\n",
       "    }\n",
       "\n",
       "    .dataframe tbody tr th {\n",
       "        vertical-align: top;\n",
       "    }\n",
       "\n",
       "    .dataframe thead th {\n",
       "        text-align: right;\n",
       "    }\n",
       "</style>\n",
       "<table border=\"1\" class=\"dataframe\">\n",
       "  <thead>\n",
       "    <tr style=\"text-align: right;\">\n",
       "      <th></th>\n",
       "      <th>fare_amount</th>\n",
       "      <th>pickup_longitude</th>\n",
       "      <th>pickup_latitude</th>\n",
       "      <th>dropoff_longitude</th>\n",
       "      <th>dropoff_latitude</th>\n",
       "      <th>passenger_count</th>\n",
       "      <th>hour</th>\n",
       "      <th>day</th>\n",
       "      <th>month</th>\n",
       "      <th>year</th>\n",
       "      <th>dayofweek</th>\n",
       "      <th>dist_travel_km</th>\n",
       "    </tr>\n",
       "  </thead>\n",
       "  <tbody>\n",
       "    <tr>\n",
       "      <th>61793</th>\n",
       "      <td>8.5</td>\n",
       "      <td>-73.951385</td>\n",
       "      <td>401.066667</td>\n",
       "      <td>-73.98211</td>\n",
       "      <td>40.754117</td>\n",
       "      <td>1</td>\n",
       "      <td>5</td>\n",
       "      <td>13</td>\n",
       "      <td>6</td>\n",
       "      <td>2012</td>\n",
       "      <td>2</td>\n",
       "      <td>34.84975</td>\n",
       "    </tr>\n",
       "  </tbody>\n",
       "</table>\n",
       "</div>"
      ],
      "text/plain": [
       "       fare_amount  pickup_longitude  pickup_latitude  dropoff_longitude  \\\n",
       "61793          8.5        -73.951385       401.066667          -73.98211   \n",
       "\n",
       "       dropoff_latitude  passenger_count  hour  day  month  year  dayofweek  \\\n",
       "61793         40.754117                1     5   13      6  2012          2   \n",
       "\n",
       "       dist_travel_km  \n",
       "61793        34.84975  "
      ]
     },
     "execution_count": 31,
     "metadata": {},
     "output_type": "execute_result"
    }
   ],
   "source": [
    "incorrect_coordinates"
   ]
  },
  {
   "cell_type": "code",
   "execution_count": 32,
   "id": "53c8f89a",
   "metadata": {},
   "outputs": [
    {
     "data": {
      "text/plain": [
       "1"
      ]
     },
     "execution_count": 32,
     "metadata": {},
     "output_type": "execute_result"
    }
   ],
   "source": [
    "len([-73.25])"
   ]
  },
  {
   "cell_type": "code",
   "execution_count": 33,
   "id": "2b161468",
   "metadata": {},
   "outputs": [],
   "source": [
    "data.drop(incorrect_coordinates, inplace = True, errors = 'ignore')"
   ]
  },
  {
   "cell_type": "code",
   "execution_count": 34,
   "id": "90f9066e",
   "metadata": {},
   "outputs": [
    {
     "data": {
      "text/html": [
       "<div>\n",
       "<style scoped>\n",
       "    .dataframe tbody tr th:only-of-type {\n",
       "        vertical-align: middle;\n",
       "    }\n",
       "\n",
       "    .dataframe tbody tr th {\n",
       "        vertical-align: top;\n",
       "    }\n",
       "\n",
       "    .dataframe thead th {\n",
       "        text-align: right;\n",
       "    }\n",
       "</style>\n",
       "<table border=\"1\" class=\"dataframe\">\n",
       "  <thead>\n",
       "    <tr style=\"text-align: right;\">\n",
       "      <th></th>\n",
       "      <th>fare_amount</th>\n",
       "      <th>pickup_longitude</th>\n",
       "      <th>pickup_latitude</th>\n",
       "      <th>dropoff_longitude</th>\n",
       "      <th>dropoff_latitude</th>\n",
       "      <th>passenger_count</th>\n",
       "      <th>hour</th>\n",
       "      <th>day</th>\n",
       "      <th>month</th>\n",
       "      <th>year</th>\n",
       "      <th>dayofweek</th>\n",
       "      <th>dist_travel_km</th>\n",
       "    </tr>\n",
       "  </thead>\n",
       "  <tbody>\n",
       "    <tr>\n",
       "      <th>fare_amount</th>\n",
       "      <td>1.000000</td>\n",
       "      <td>0.011739</td>\n",
       "      <td>-0.008359</td>\n",
       "      <td>0.010258</td>\n",
       "      <td>-0.008369</td>\n",
       "      <td>0.011914</td>\n",
       "      <td>-0.020709</td>\n",
       "      <td>0.000107</td>\n",
       "      <td>0.024404</td>\n",
       "      <td>0.120365</td>\n",
       "      <td>0.006575</td>\n",
       "      <td>0.789936</td>\n",
       "    </tr>\n",
       "    <tr>\n",
       "      <th>pickup_longitude</th>\n",
       "      <td>0.011739</td>\n",
       "      <td>1.000000</td>\n",
       "      <td>-0.949081</td>\n",
       "      <td>0.999875</td>\n",
       "      <td>-0.993960</td>\n",
       "      <td>0.009168</td>\n",
       "      <td>0.001841</td>\n",
       "      <td>0.019523</td>\n",
       "      <td>-0.007476</td>\n",
       "      <td>0.013443</td>\n",
       "      <td>0.008238</td>\n",
       "      <td>0.005131</td>\n",
       "    </tr>\n",
       "    <tr>\n",
       "      <th>pickup_latitude</th>\n",
       "      <td>-0.008359</td>\n",
       "      <td>-0.949081</td>\n",
       "      <td>1.000000</td>\n",
       "      <td>-0.949084</td>\n",
       "      <td>0.954748</td>\n",
       "      <td>-0.009219</td>\n",
       "      <td>-0.001817</td>\n",
       "      <td>-0.019357</td>\n",
       "      <td>0.007602</td>\n",
       "      <td>-0.013696</td>\n",
       "      <td>-0.008914</td>\n",
       "      <td>0.002931</td>\n",
       "    </tr>\n",
       "    <tr>\n",
       "      <th>dropoff_longitude</th>\n",
       "      <td>0.010258</td>\n",
       "      <td>0.999875</td>\n",
       "      <td>-0.949084</td>\n",
       "      <td>1.000000</td>\n",
       "      <td>-0.993946</td>\n",
       "      <td>0.009164</td>\n",
       "      <td>0.000949</td>\n",
       "      <td>0.019544</td>\n",
       "      <td>-0.007442</td>\n",
       "      <td>0.013339</td>\n",
       "      <td>0.008527</td>\n",
       "      <td>0.004103</td>\n",
       "    </tr>\n",
       "    <tr>\n",
       "      <th>dropoff_latitude</th>\n",
       "      <td>-0.008369</td>\n",
       "      <td>-0.993960</td>\n",
       "      <td>0.954748</td>\n",
       "      <td>-0.993946</td>\n",
       "      <td>1.000000</td>\n",
       "      <td>-0.009264</td>\n",
       "      <td>-0.001022</td>\n",
       "      <td>-0.020076</td>\n",
       "      <td>0.007991</td>\n",
       "      <td>-0.014351</td>\n",
       "      <td>-0.008916</td>\n",
       "      <td>-0.002280</td>\n",
       "    </tr>\n",
       "    <tr>\n",
       "      <th>passenger_count</th>\n",
       "      <td>0.011914</td>\n",
       "      <td>0.009168</td>\n",
       "      <td>-0.009219</td>\n",
       "      <td>0.009164</td>\n",
       "      <td>-0.009264</td>\n",
       "      <td>1.000000</td>\n",
       "      <td>0.013344</td>\n",
       "      <td>0.003595</td>\n",
       "      <td>0.009985</td>\n",
       "      <td>0.005160</td>\n",
       "      <td>0.033807</td>\n",
       "      <td>0.005053</td>\n",
       "    </tr>\n",
       "    <tr>\n",
       "      <th>hour</th>\n",
       "      <td>-0.020709</td>\n",
       "      <td>0.001841</td>\n",
       "      <td>-0.001817</td>\n",
       "      <td>0.000949</td>\n",
       "      <td>-0.001022</td>\n",
       "      <td>0.013344</td>\n",
       "      <td>1.000000</td>\n",
       "      <td>0.005348</td>\n",
       "      <td>-0.004234</td>\n",
       "      <td>0.001890</td>\n",
       "      <td>-0.086209</td>\n",
       "      <td>-0.027476</td>\n",
       "    </tr>\n",
       "    <tr>\n",
       "      <th>day</th>\n",
       "      <td>0.000107</td>\n",
       "      <td>0.019523</td>\n",
       "      <td>-0.019357</td>\n",
       "      <td>0.019544</td>\n",
       "      <td>-0.020076</td>\n",
       "      <td>0.003595</td>\n",
       "      <td>0.005348</td>\n",
       "      <td>1.000000</td>\n",
       "      <td>-0.017005</td>\n",
       "      <td>-0.012371</td>\n",
       "      <td>0.005004</td>\n",
       "      <td>-0.001129</td>\n",
       "    </tr>\n",
       "    <tr>\n",
       "      <th>month</th>\n",
       "      <td>0.024404</td>\n",
       "      <td>-0.007476</td>\n",
       "      <td>0.007602</td>\n",
       "      <td>-0.007442</td>\n",
       "      <td>0.007991</td>\n",
       "      <td>0.009985</td>\n",
       "      <td>-0.004234</td>\n",
       "      <td>-0.017005</td>\n",
       "      <td>1.000000</td>\n",
       "      <td>-0.115491</td>\n",
       "      <td>-0.008902</td>\n",
       "      <td>0.008026</td>\n",
       "    </tr>\n",
       "    <tr>\n",
       "      <th>year</th>\n",
       "      <td>0.120365</td>\n",
       "      <td>0.013443</td>\n",
       "      <td>-0.013696</td>\n",
       "      <td>0.013339</td>\n",
       "      <td>-0.014351</td>\n",
       "      <td>0.005160</td>\n",
       "      <td>0.001890</td>\n",
       "      <td>-0.012371</td>\n",
       "      <td>-0.115491</td>\n",
       "      <td>1.000000</td>\n",
       "      <td>0.006022</td>\n",
       "      <td>0.019209</td>\n",
       "    </tr>\n",
       "    <tr>\n",
       "      <th>dayofweek</th>\n",
       "      <td>0.006575</td>\n",
       "      <td>0.008238</td>\n",
       "      <td>-0.008914</td>\n",
       "      <td>0.008527</td>\n",
       "      <td>-0.008916</td>\n",
       "      <td>0.033807</td>\n",
       "      <td>-0.086209</td>\n",
       "      <td>0.005004</td>\n",
       "      <td>-0.008902</td>\n",
       "      <td>0.006022</td>\n",
       "      <td>1.000000</td>\n",
       "      <td>0.016747</td>\n",
       "    </tr>\n",
       "    <tr>\n",
       "      <th>dist_travel_km</th>\n",
       "      <td>0.789936</td>\n",
       "      <td>0.005131</td>\n",
       "      <td>0.002931</td>\n",
       "      <td>0.004103</td>\n",
       "      <td>-0.002280</td>\n",
       "      <td>0.005053</td>\n",
       "      <td>-0.027476</td>\n",
       "      <td>-0.001129</td>\n",
       "      <td>0.008026</td>\n",
       "      <td>0.019209</td>\n",
       "      <td>0.016747</td>\n",
       "      <td>1.000000</td>\n",
       "    </tr>\n",
       "  </tbody>\n",
       "</table>\n",
       "</div>"
      ],
      "text/plain": [
       "                   fare_amount  pickup_longitude  pickup_latitude  \\\n",
       "fare_amount           1.000000          0.011739        -0.008359   \n",
       "pickup_longitude      0.011739          1.000000        -0.949081   \n",
       "pickup_latitude      -0.008359         -0.949081         1.000000   \n",
       "dropoff_longitude     0.010258          0.999875        -0.949084   \n",
       "dropoff_latitude     -0.008369         -0.993960         0.954748   \n",
       "passenger_count       0.011914          0.009168        -0.009219   \n",
       "hour                 -0.020709          0.001841        -0.001817   \n",
       "day                   0.000107          0.019523        -0.019357   \n",
       "month                 0.024404         -0.007476         0.007602   \n",
       "year                  0.120365          0.013443        -0.013696   \n",
       "dayofweek             0.006575          0.008238        -0.008914   \n",
       "dist_travel_km        0.789936          0.005131         0.002931   \n",
       "\n",
       "                   dropoff_longitude  dropoff_latitude  passenger_count  \\\n",
       "fare_amount                 0.010258         -0.008369         0.011914   \n",
       "pickup_longitude            0.999875         -0.993960         0.009168   \n",
       "pickup_latitude            -0.949084          0.954748        -0.009219   \n",
       "dropoff_longitude           1.000000         -0.993946         0.009164   \n",
       "dropoff_latitude           -0.993946          1.000000        -0.009264   \n",
       "passenger_count             0.009164         -0.009264         1.000000   \n",
       "hour                        0.000949         -0.001022         0.013344   \n",
       "day                         0.019544         -0.020076         0.003595   \n",
       "month                      -0.007442          0.007991         0.009985   \n",
       "year                        0.013339         -0.014351         0.005160   \n",
       "dayofweek                   0.008527         -0.008916         0.033807   \n",
       "dist_travel_km              0.004103         -0.002280         0.005053   \n",
       "\n",
       "                       hour       day     month      year  dayofweek  \\\n",
       "fare_amount       -0.020709  0.000107  0.024404  0.120365   0.006575   \n",
       "pickup_longitude   0.001841  0.019523 -0.007476  0.013443   0.008238   \n",
       "pickup_latitude   -0.001817 -0.019357  0.007602 -0.013696  -0.008914   \n",
       "dropoff_longitude  0.000949  0.019544 -0.007442  0.013339   0.008527   \n",
       "dropoff_latitude  -0.001022 -0.020076  0.007991 -0.014351  -0.008916   \n",
       "passenger_count    0.013344  0.003595  0.009985  0.005160   0.033807   \n",
       "hour               1.000000  0.005348 -0.004234  0.001890  -0.086209   \n",
       "day                0.005348  1.000000 -0.017005 -0.012371   0.005004   \n",
       "month             -0.004234 -0.017005  1.000000 -0.115491  -0.008902   \n",
       "year               0.001890 -0.012371 -0.115491  1.000000   0.006022   \n",
       "dayofweek         -0.086209  0.005004 -0.008902  0.006022   1.000000   \n",
       "dist_travel_km    -0.027476 -0.001129  0.008026  0.019209   0.016747   \n",
       "\n",
       "                   dist_travel_km  \n",
       "fare_amount              0.789936  \n",
       "pickup_longitude         0.005131  \n",
       "pickup_latitude          0.002931  \n",
       "dropoff_longitude        0.004103  \n",
       "dropoff_latitude        -0.002280  \n",
       "passenger_count          0.005053  \n",
       "hour                    -0.027476  \n",
       "day                     -0.001129  \n",
       "month                    0.008026  \n",
       "year                     0.019209  \n",
       "dayofweek                0.016747  \n",
       "dist_travel_km           1.000000  "
      ]
     },
     "execution_count": 34,
     "metadata": {},
     "output_type": "execute_result"
    }
   ],
   "source": [
    "corr=data.corr()\n",
    "corr"
   ]
  },
  {
   "cell_type": "code",
   "execution_count": 35,
   "id": "f8a00c9c",
   "metadata": {},
   "outputs": [
    {
     "data": {
      "image/png": "[encoded data removed]",
      "text/plain": [
       "<Figure size 1440x864 with 2 Axes>"
      ]
     },
     "metadata": {
      "needs_background": "light"
     },
     "output_type": "display_data"
    }
   ],
   "source": [
    "# plot the heat map\n",
    "# corr: give the correlation matrix\n",
    "# cmap: color code used for plotting\n",
    "# vmax: gives a maximum range of values for the chart\n",
    "# vmin: gives a minimum range of values for the chart\n",
    "# annot: prints the correlation values in the chart\n",
    "# annot_kws: sets the font size of the annotation\n",
    "# mask: mask the upper traingular matrix values\n",
    "f,ax=plt.subplots(figsize=(20,12))\n",
    "sns.heatmap(data.corr(), cmap = 'RdYlGn', vmax = 1.0, vmin = -1.0, annot = True)\n",
    "plt.xticks(fontsize = 12)            #increase or decrease the font size of x\n",
    "plt.yticks(fontsize = 15)            #increase or decrease the font size of x\n",
    "plt.show()"
   ]
  },
  {
   "cell_type": "code",
   "execution_count": 36,
   "id": "80f473e3",
   "metadata": {},
   "outputs": [
    {
     "data": {
      "text/plain": [
       "4    29932\n",
       "5    29370\n",
       "3    29121\n",
       "2    28134\n",
       "1    27303\n",
       "6    25629\n",
       "0    24433\n",
       "Name: dayofweek, dtype: int64"
      ]
     },
     "execution_count": 36,
     "metadata": {},
     "output_type": "execute_result"
    }
   ],
   "source": [
    "data.dayofweek.value_counts()"
   ]
  },
  {
   "cell_type": "markdown",
   "id": "1985b185",
   "metadata": {},
   "source": [
    "#  we are going to check the peak hours during the weekdays"
   ]
  },
  {
   "cell_type": "markdown",
   "id": "32ab8fd8",
   "metadata": {},
   "source": [
    "# 1. plotting the countplot to see the peak hours during weekdays"
   ]
  },
  {
   "cell_type": "code",
   "execution_count": 37,
   "id": "d8f24b53",
   "metadata": {},
   "outputs": [
    {
     "data": {
      "text/plain": [
       "<AxesSubplot:title={'center':'Cab trips count during week days'}, xlabel='hour', ylabel='count'>"
      ]
     },
     "execution_count": 37,
     "metadata": {},
     "output_type": "execute_result"
    },
    {
     "data": {
      "image/png": "[encoded data removed]",
      "text/plain": [
       "<Figure size 720x360 with 1 Axes>"
      ]
     },
     "metadata": {
      "needs_background": "light"
     },
     "output_type": "display_data"
    }
   ],
   "source": [
    "plt.figure(figsize=(10,5))\n",
    "plt.title('Cab trips count during week days')\n",
    "sns.set_style(\"white\")\n",
    "sns.countplot(x='hour', data= data[(data.dayofweek >= 0) & (data.dayofweek <= 4)])"
   ]
  },
  {
   "cell_type": "markdown",
   "id": "2fccad55",
   "metadata": {},
   "source": [
    "# 2. plotting a countplot to see the peak hours during weekends"
   ]
  },
  {
   "cell_type": "code",
   "execution_count": 38,
   "id": "b960a16a",
   "metadata": {},
   "outputs": [
    {
     "data": {
      "text/plain": [
       "<AxesSubplot:title={'center':'Cab trips count during week days'}, xlabel='hour', ylabel='count'>"
      ]
     },
     "execution_count": 38,
     "metadata": {},
     "output_type": "execute_result"
    },
    {
     "data": {
      "image/png": "[encoded data removed]",
      "text/plain": [
       "<Figure size 720x360 with 1 Axes>"
      ]
     },
     "metadata": {},
     "output_type": "display_data"
    }
   ],
   "source": [
    "plt.figure(figsize=(10,5))\n",
    "plt.title('Cab trips count during week days')\n",
    "sns.set_style(\"white\")\n",
    "sns.countplot(x='hour', data=data[(data.dayofweek >= 5) & (data.dayofweek <=6)])"
   ]
  },
  {
   "cell_type": "markdown",
   "id": "9eb54850",
   "metadata": {},
   "source": [
    "#  Finding out the mean fare on hourly basis on weekdays and weekends"
   ]
  },
  {
   "cell_type": "code",
   "execution_count": 39,
   "id": "46b5a086",
   "metadata": {},
   "outputs": [],
   "source": [
    "# Set the days in the dataset as week days and week ends\n",
    "week_days = data.loc[(data.dayofweek >= 0) & (data.dayofweek <= 4)]\n",
    "week_ends = data.loc[(data.dayofweek >= 5) & (data.dayofweek <= 6)]\n",
    "\n",
    "# compute the mean fare amount over the week day and week end.\n",
    "# use groupby('hour') to get the mean fare for each hour\n",
    "week_days_fare = week_days.groupby(['hour']).fare_amount.mean().to_frame().reset_index()\n",
    "week_ends_fare = week_ends.groupby(['hour']).fare_amount.mean().to_frame().reset_index()"
   ]
  },
  {
   "cell_type": "code",
   "execution_count": 40,
   "id": "d5129689",
   "metadata": {},
   "outputs": [],
   "source": [
    "# hours\n",
    "x = np.array(week_days_fare.hour)\n",
    "# an array of week day fare \n",
    "y = np.array(week_days_fare.fare_amount)\n",
    "# an array of week end fare\n",
    "z = np.array(week_ends_fare.fare_amount)"
   ]
  },
  {
   "cell_type": "code",
   "execution_count": 41,
   "id": "ba4020e8",
   "metadata": {},
   "outputs": [
    {
     "data": {
      "image/png": "[encoded data removed]",
      "text/plain": [
       "<Figure size 720x360 with 1 Axes>"
      ]
     },
     "metadata": {},
     "output_type": "display_data"
    }
   ],
   "source": [
    "# Set the figure size, title, x and y labels\n",
    "plt.figure(figsize = (10,5))\n",
    "plt.title('Mean Fare Amount For Each Hour - Weekdays Vs Weekends')\n",
    "plt.xlabel('Hours')\n",
    "plt.ylabel('Mean Fare')\n",
    "# Pass the three integers. The value of these integer should be less that 10\n",
    "ax=plt.subplot(1,1,1)\n",
    "ax.bar(x-0.2, y, width=0.2, color='red', align='center', label = 'Week days')\n",
    "ax.bar(x, z, width=0.2, color='blue', align='center', label = 'Week ends')\n",
    "plt.xticks(range(0,24))\n",
    "plt.legend()\n",
    "plt.show()"
   ]
  },
  {
   "cell_type": "markdown",
   "id": "ca3c5abf",
   "metadata": {},
   "source": [
    "# Distribution of key numerical vairables¶"
   ]
  },
  {
   "cell_type": "markdown",
   "id": "2b3d1ae2",
   "metadata": {},
   "source": [
    "#   distibution of  'fare amount'"
   ]
  },
  {
   "cell_type": "code",
   "execution_count": 42,
   "id": "46917926",
   "metadata": {},
   "outputs": [
    {
     "data": {
      "text/plain": [
       "<AxesSubplot:title={'center':'Distribution of the fare amount'}, xlabel='Fare Amount', ylabel='Frequency'>"
      ]
     },
     "execution_count": 42,
     "metadata": {},
     "output_type": "execute_result"
    },
    {
     "data": {
      "image/png": "[encoded data removed]",
      "text/plain": [
       "<Figure size 720x360 with 1 Axes>"
      ]
     },
     "metadata": {},
     "output_type": "display_data"
    }
   ],
   "source": [
    "plt.figure(figsize=(10,5))\n",
    "plt.title(\"Distribution of the fare amount\")\n",
    "plt.xlabel(\"Fare Amount\")\n",
    "plt.ylabel(\"Frequency\")\n",
    "sns.set_style(\"white\")\n",
    "plt.xlim(-10,20)\n",
    "# to increase the  values on x-axis\n",
    "plt.xticks(range(0,70,5))\n",
    "sns.kdeplot(data.fare_amount, shade=True)"
   ]
  },
  {
   "cell_type": "code",
   "execution_count": 43,
   "id": "8b481897",
   "metadata": {},
   "outputs": [
    {
     "data": {
      "text/plain": [
       "<AxesSubplot:title={'center':'Distribution of the trip distance'}, xlabel='Distance(Km)', ylabel='Frequency'>"
      ]
     },
     "execution_count": 43,
     "metadata": {},
     "output_type": "execute_result"
    },
    {
     "data": {
      "image/png": "[encoded data removed]",
      "text/plain": [
       "<Figure size 1080x576 with 1 Axes>"
      ]
     },
     "metadata": {},
     "output_type": "display_data"
    }
   ],
   "source": [
    "plt.figure(figsize=(15,8))\n",
    "plt.title(\"Distribution of the trip distance\")\n",
    "plt.xlabel(\"Distance(Km)\")\n",
    "plt.ylabel(\"Frequency\")\n",
    "plt.xlim(-10,20)\n",
    "plt.xticks(range(0, 100, 5))\n",
    "sns.set_style = 'white'\n",
    "sns.kdeplot(data[data.dist_travel_km < 600].dist_travel_km, shade= True)"
   ]
  },
  {
   "cell_type": "markdown",
   "id": "03794f76",
   "metadata": {},
   "source": [
    "We can see that most the trips have a travel distance of 2.5 km to 25 km. There are a few instances of 0 km as well.\n",
    "\n"
   ]
  },
  {
   "cell_type": "markdown",
   "id": "b5fcaffd",
   "metadata": {},
   "source": [
    "# Model"
   ]
  },
  {
   "cell_type": "code",
   "execution_count": 44,
   "id": "5d652138",
   "metadata": {},
   "outputs": [
    {
     "data": {
      "text/html": [
       "<div>\n",
       "<style scoped>\n",
       "    .dataframe tbody tr th:only-of-type {\n",
       "        vertical-align: middle;\n",
       "    }\n",
       "\n",
       "    .dataframe tbody tr th {\n",
       "        vertical-align: top;\n",
       "    }\n",
       "\n",
       "    .dataframe thead th {\n",
       "        text-align: right;\n",
       "    }\n",
       "</style>\n",
       "<table border=\"1\" class=\"dataframe\">\n",
       "  <thead>\n",
       "    <tr style=\"text-align: right;\">\n",
       "      <th></th>\n",
       "      <th>fare_amount</th>\n",
       "      <th>pickup_longitude</th>\n",
       "      <th>pickup_latitude</th>\n",
       "      <th>dropoff_longitude</th>\n",
       "      <th>dropoff_latitude</th>\n",
       "      <th>passenger_count</th>\n",
       "      <th>hour</th>\n",
       "      <th>day</th>\n",
       "      <th>month</th>\n",
       "      <th>year</th>\n",
       "      <th>dayofweek</th>\n",
       "      <th>dist_travel_km</th>\n",
       "    </tr>\n",
       "  </thead>\n",
       "  <tbody>\n",
       "    <tr>\n",
       "      <th>0</th>\n",
       "      <td>7.5</td>\n",
       "      <td>-73.999817</td>\n",
       "      <td>40.738354</td>\n",
       "      <td>-73.999512</td>\n",
       "      <td>40.723217</td>\n",
       "      <td>1</td>\n",
       "      <td>19</td>\n",
       "      <td>7</td>\n",
       "      <td>5</td>\n",
       "      <td>2015</td>\n",
       "      <td>3</td>\n",
       "      <td>1.683323</td>\n",
       "    </tr>\n",
       "    <tr>\n",
       "      <th>1</th>\n",
       "      <td>7.7</td>\n",
       "      <td>-73.994355</td>\n",
       "      <td>40.728225</td>\n",
       "      <td>-73.994710</td>\n",
       "      <td>40.750325</td>\n",
       "      <td>1</td>\n",
       "      <td>20</td>\n",
       "      <td>17</td>\n",
       "      <td>7</td>\n",
       "      <td>2009</td>\n",
       "      <td>4</td>\n",
       "      <td>2.457590</td>\n",
       "    </tr>\n",
       "    <tr>\n",
       "      <th>2</th>\n",
       "      <td>12.9</td>\n",
       "      <td>-74.005043</td>\n",
       "      <td>40.740770</td>\n",
       "      <td>-73.962565</td>\n",
       "      <td>40.772647</td>\n",
       "      <td>1</td>\n",
       "      <td>21</td>\n",
       "      <td>24</td>\n",
       "      <td>8</td>\n",
       "      <td>2009</td>\n",
       "      <td>0</td>\n",
       "      <td>5.036377</td>\n",
       "    </tr>\n",
       "    <tr>\n",
       "      <th>3</th>\n",
       "      <td>5.3</td>\n",
       "      <td>-73.976124</td>\n",
       "      <td>40.790844</td>\n",
       "      <td>-73.965316</td>\n",
       "      <td>40.803349</td>\n",
       "      <td>3</td>\n",
       "      <td>8</td>\n",
       "      <td>26</td>\n",
       "      <td>6</td>\n",
       "      <td>2009</td>\n",
       "      <td>4</td>\n",
       "      <td>1.661683</td>\n",
       "    </tr>\n",
       "    <tr>\n",
       "      <th>4</th>\n",
       "      <td>16.0</td>\n",
       "      <td>-73.925023</td>\n",
       "      <td>40.744085</td>\n",
       "      <td>-73.973082</td>\n",
       "      <td>40.761247</td>\n",
       "      <td>5</td>\n",
       "      <td>17</td>\n",
       "      <td>28</td>\n",
       "      <td>8</td>\n",
       "      <td>2014</td>\n",
       "      <td>3</td>\n",
       "      <td>4.475450</td>\n",
       "    </tr>\n",
       "  </tbody>\n",
       "</table>\n",
       "</div>"
      ],
      "text/plain": [
       "   fare_amount  pickup_longitude  pickup_latitude  dropoff_longitude  \\\n",
       "0          7.5        -73.999817        40.738354         -73.999512   \n",
       "1          7.7        -73.994355        40.728225         -73.994710   \n",
       "2         12.9        -74.005043        40.740770         -73.962565   \n",
       "3          5.3        -73.976124        40.790844         -73.965316   \n",
       "4         16.0        -73.925023        40.744085         -73.973082   \n",
       "\n",
       "   dropoff_latitude  passenger_count  hour  day  month  year  dayofweek  \\\n",
       "0         40.723217                1    19    7      5  2015          3   \n",
       "1         40.750325                1    20   17      7  2009          4   \n",
       "2         40.772647                1    21   24      8  2009          0   \n",
       "3         40.803349                3     8   26      6  2009          4   \n",
       "4         40.761247                5    17   28      8  2014          3   \n",
       "\n",
       "   dist_travel_km  \n",
       "0        1.683323  \n",
       "1        2.457590  \n",
       "2        5.036377  \n",
       "3        1.661683  \n",
       "4        4.475450  "
      ]
     },
     "execution_count": 44,
     "metadata": {},
     "output_type": "execute_result"
    }
   ],
   "source": [
    "data.head()"
   ]
  },
  {
   "cell_type": "code",
   "execution_count": 45,
   "id": "f8271d61",
   "metadata": {},
   "outputs": [
    {
     "name": "stdout",
     "output_type": "stream",
     "text": [
      "<class 'pandas.core.frame.DataFrame'>\n",
      "Int64Index: 193922 entries, 0 to 199999\n",
      "Data columns (total 12 columns):\n",
      " #   Column             Non-Null Count   Dtype  \n",
      "---  ------             --------------   -----  \n",
      " 0   fare_amount        193922 non-null  float64\n",
      " 1   pickup_longitude   193922 non-null  float64\n",
      " 2   pickup_latitude    193922 non-null  float64\n",
      " 3   dropoff_longitude  193922 non-null  float64\n",
      " 4   dropoff_latitude   193922 non-null  float64\n",
      " 5   passenger_count    193922 non-null  int64  \n",
      " 6   hour               193922 non-null  int64  \n",
      " 7   day                193922 non-null  int64  \n",
      " 8   month              193922 non-null  int64  \n",
      " 9   year               193922 non-null  int64  \n",
      " 10  dayofweek          193922 non-null  int64  \n",
      " 11  dist_travel_km     193922 non-null  float64\n",
      "dtypes: float64(6), int64(6)\n",
      "memory usage: 23.3 MB\n"
     ]
    }
   ],
   "source": [
    "data.info()"
   ]
  },
  {
   "cell_type": "code",
   "execution_count": 46,
   "id": "d63a6a61",
   "metadata": {},
   "outputs": [],
   "source": [
    "features=data.drop(['fare_amount'], axis=1)\n",
    "target=data[['fare_amount']]"
   ]
  },
  {
   "cell_type": "code",
   "execution_count": 47,
   "id": "5a0e9576",
   "metadata": {},
   "outputs": [],
   "source": [
    "from sklearn.model_selection import train_test_split"
   ]
  },
  {
   "cell_type": "code",
   "execution_count": 48,
   "id": "1d170478",
   "metadata": {},
   "outputs": [],
   "source": [
    "x_train, x_test, y_train, y_test=train_test_split(features, target, train_size=0.75, random_state=10)"
   ]
  },
  {
   "cell_type": "code",
   "execution_count": 49,
   "id": "314e8f0c",
   "metadata": {},
   "outputs": [
    {
     "data": {
      "text/plain": [
       "((145441, 11), (48481, 11), (145441, 1), (48481, 1))"
      ]
     },
     "execution_count": 49,
     "metadata": {},
     "output_type": "execute_result"
    }
   ],
   "source": [
    "x_train.shape, x_test.shape, y_train.shape, y_test.shape"
   ]
  },
  {
   "cell_type": "markdown",
   "id": "fe1dae32",
   "metadata": {},
   "source": [
    "# DecisionTreeClassifier"
   ]
  },
  {
   "cell_type": "code",
   "execution_count": 54,
   "id": "9a3db5a7",
   "metadata": {},
   "outputs": [],
   "source": [
    "from sklearn.tree import DecisionTreeRegressor"
   ]
  },
  {
   "cell_type": "code",
   "execution_count": 78,
   "id": "cf7d5b64",
   "metadata": {},
   "outputs": [],
   "source": [
    "my_model=DecisionTreeRegressor(random_state=2, max_depth = 1)"
   ]
  },
  {
   "cell_type": "code",
   "execution_count": 79,
   "id": "60681e9a",
   "metadata": {},
   "outputs": [
    {
     "data": {
      "text/plain": [
       "DecisionTreeRegressor(max_depth=1, random_state=2)"
      ]
     },
     "execution_count": 79,
     "metadata": {},
     "output_type": "execute_result"
    }
   ],
   "source": [
    "my_model.fit(x_train, y_train)"
   ]
  },
  {
   "cell_type": "markdown",
   "id": "89379bdb",
   "metadata": {},
   "source": [
    "#### using Gridsearch"
   ]
  },
  {
   "cell_type": "code",
   "execution_count": 80,
   "id": "32957890",
   "metadata": {},
   "outputs": [],
   "source": [
    "from sklearn.model_selection import GridSearchCV"
   ]
  },
  {
   "cell_type": "code",
   "execution_count": 82,
   "id": "7bcc347c",
   "metadata": {},
   "outputs": [],
   "source": [
    "params = {'max_depth':[1,2,3,4,5], 'splitter':['best','random']}"
   ]
  },
  {
   "cell_type": "code",
   "execution_count": 83,
   "id": "fccee203",
   "metadata": {},
   "outputs": [],
   "source": [
    "gridsearch=GridSearchCV(my_model, params, cv= 3, n_jobs= -1)"
   ]
  },
  {
   "cell_type": "code",
   "execution_count": 84,
   "id": "2b00501a",
   "metadata": {},
   "outputs": [
    {
     "data": {
      "text/plain": [
       "GridSearchCV(cv=3, estimator=DecisionTreeRegressor(max_depth=1, random_state=2),\n",
       "             n_jobs=-1,\n",
       "             param_grid={'max_depth': [1, 2, 3, 4, 5],\n",
       "                         'splitter': ['best', 'random']})"
      ]
     },
     "execution_count": 84,
     "metadata": {},
     "output_type": "execute_result"
    }
   ],
   "source": [
    "gridsearch.fit(x_train, y_train)"
   ]
  },
  {
   "cell_type": "code",
   "execution_count": 85,
   "id": "71e2223c",
   "metadata": {},
   "outputs": [
    {
     "data": {
      "text/plain": [
       "{'max_depth': 5, 'splitter': 'best'}"
      ]
     },
     "execution_count": 85,
     "metadata": {},
     "output_type": "execute_result"
    }
   ],
   "source": [
    "gridsearch.best_params_"
   ]
  },
  {
   "cell_type": "code",
   "execution_count": 86,
   "id": "62c7ec50",
   "metadata": {},
   "outputs": [],
   "source": [
    "my_model=DecisionTreeRegressor(random_state=2, max_depth = 5, splitter = 'best')"
   ]
  },
  {
   "cell_type": "code",
   "execution_count": 87,
   "id": "45c8e918",
   "metadata": {},
   "outputs": [
    {
     "data": {
      "text/plain": [
       "DecisionTreeRegressor(max_depth=5, random_state=2)"
      ]
     },
     "execution_count": 87,
     "metadata": {},
     "output_type": "execute_result"
    }
   ],
   "source": [
    "my_model.fit(x_train, y_train)"
   ]
  },
  {
   "cell_type": "code",
   "execution_count": 88,
   "id": "b9fc8d9c",
   "metadata": {},
   "outputs": [],
   "source": [
    "y_pred=my_model.predict(x_test)"
   ]
  },
  {
   "cell_type": "code",
   "execution_count": 95,
   "id": "f33f1c5f",
   "metadata": {},
   "outputs": [],
   "source": [
    "from sklearn.metrics import mean_squared_error, mean_absolute_error, r2_score"
   ]
  },
  {
   "cell_type": "code",
   "execution_count": 90,
   "id": "e4a896e5",
   "metadata": {},
   "outputs": [
    {
     "data": {
      "text/plain": [
       "22.213317165771866"
      ]
     },
     "execution_count": 90,
     "metadata": {},
     "output_type": "execute_result"
    }
   ],
   "source": [
    "mean_squared_error(y_test, y_pred)"
   ]
  },
  {
   "cell_type": "code",
   "execution_count": 91,
   "id": "df7bcf10",
   "metadata": {},
   "outputs": [
    {
     "data": {
      "text/plain": [
       "4.713100589396737"
      ]
     },
     "execution_count": 91,
     "metadata": {},
     "output_type": "execute_result"
    }
   ],
   "source": [
    "sqrt(mean_squared_error(y_test, y_pred))"
   ]
  },
  {
   "cell_type": "code",
   "execution_count": 92,
   "id": "81cc05f3",
   "metadata": {},
   "outputs": [
    {
     "data": {
      "text/plain": [
       "2.3044501840576013"
      ]
     },
     "execution_count": 92,
     "metadata": {},
     "output_type": "execute_result"
    }
   ],
   "source": [
    "mean_absolute_error(y_test, y_pred)"
   ]
  },
  {
   "cell_type": "code",
   "execution_count": 96,
   "id": "796bfa52",
   "metadata": {},
   "outputs": [
    {
     "data": {
      "text/plain": [
       "0.7710853001154824"
      ]
     },
     "execution_count": 96,
     "metadata": {},
     "output_type": "execute_result"
    }
   ],
   "source": [
    "r2_score(y_test, y_pred)"
   ]
  },
  {
   "cell_type": "markdown",
   "id": "6dd6b51a",
   "metadata": {},
   "source": [
    "# RandomForestRegressor"
   ]
  },
  {
   "cell_type": "code",
   "execution_count": 97,
   "id": "0a637ede",
   "metadata": {},
   "outputs": [],
   "source": [
    "from sklearn.ensemble import RandomForestRegressor"
   ]
  },
  {
   "cell_type": "code",
   "execution_count": 98,
   "id": "3c1e0e13",
   "metadata": {},
   "outputs": [],
   "source": [
    "my_model_rf=RandomForestRegressor(n_estimators=100, random_state=10)"
   ]
  },
  {
   "cell_type": "code",
   "execution_count": 99,
   "id": "d1636300",
   "metadata": {},
   "outputs": [
    {
     "name": "stderr",
     "output_type": "stream",
     "text": [
      "C:\\Users\\BRUCEW~1\\AppData\\Local\\Temp/ipykernel_12536/2151359281.py:1: DataConversionWarning: A column-vector y was passed when a 1d array was expected. Please change the shape of y to (n_samples,), for example using ravel().\n",
      "  my_model_rf.fit(x_train, y_train)\n"
     ]
    },
    {
     "data": {
      "text/plain": [
       "RandomForestRegressor(random_state=10)"
      ]
     },
     "execution_count": 99,
     "metadata": {},
     "output_type": "execute_result"
    }
   ],
   "source": [
    "my_model_rf.fit(x_train, y_train)"
   ]
  },
  {
   "cell_type": "code",
   "execution_count": 101,
   "id": "56a8bf65",
   "metadata": {},
   "outputs": [],
   "source": [
    "y_pred=my_model_rf.predict(x_test)"
   ]
  },
  {
   "cell_type": "code",
   "execution_count": 102,
   "id": "624ed422",
   "metadata": {},
   "outputs": [],
   "source": [
    "from sklearn.metrics import mean_squared_error, mean_absolute_error, r2_score"
   ]
  },
  {
   "cell_type": "code",
   "execution_count": 103,
   "id": "de3e2996",
   "metadata": {},
   "outputs": [
    {
     "data": {
      "text/plain": [
       "16.844394735760403"
      ]
     },
     "execution_count": 103,
     "metadata": {},
     "output_type": "execute_result"
    }
   ],
   "source": [
    "mean_squared_error(y_pred, y_test)"
   ]
  },
  {
   "cell_type": "code",
   "execution_count": 104,
   "id": "33279df5",
   "metadata": {},
   "outputs": [
    {
     "data": {
      "text/plain": [
       "4.104192336594425"
      ]
     },
     "execution_count": 104,
     "metadata": {},
     "output_type": "execute_result"
    }
   ],
   "source": [
    "sqrt(mean_squared_error(y_pred, y_test))"
   ]
  },
  {
   "cell_type": "code",
   "execution_count": 105,
   "id": "7ec348db",
   "metadata": {},
   "outputs": [
    {
     "data": {
      "text/plain": [
       "1.7658187949918522"
      ]
     },
     "execution_count": 105,
     "metadata": {},
     "output_type": "execute_result"
    }
   ],
   "source": [
    "mean_absolute_error(y_pred, y_test)"
   ]
  },
  {
   "cell_type": "code",
   "execution_count": 106,
   "id": "794d8d54",
   "metadata": {},
   "outputs": [
    {
     "data": {
      "text/plain": [
       "0.7918056818886688"
      ]
     },
     "execution_count": 106,
     "metadata": {},
     "output_type": "execute_result"
    }
   ],
   "source": [
    "r2_score(y_pred, y_test)"
   ]
  },
  {
   "cell_type": "code",
   "execution_count": null,
   "id": "6fc3904e",
   "metadata": {},
   "outputs": [],
   "source": []
  },
  {
   "cell_type": "code",
   "execution_count": null,
   "id": "53ec8353",
   "metadata": {},
   "outputs": [],
   "source": []
  },
  {
   "cell_type": "code",
   "execution_count": null,
   "id": "fd40cbf1",
   "metadata": {},
   "outputs": [],
   "source": []
  },
  {
   "cell_type": "code",
   "execution_count": null,
   "id": "94ab6d3b",
   "metadata": {},
   "outputs": [],
   "source": []
  },
  {
   "cell_type": "code",
   "execution_count": null,
   "id": "f29c7dc7",
   "metadata": {},
   "outputs": [],
   "source": []
  }
 ],
 "metadata": {
  "kernelspec": {
   "display_name": "Python 3 (ipykernel)",
   "language": "python",
   "name": "python3"
  },
  "language_info": {
   "codemirror_mode": {
    "name": "ipython",
    "version": 3
   },
   "file_extension": ".py",
   "mimetype": "text/x-python",
   "name": "python",
   "nbconvert_exporter": "python",
   "pygments_lexer": "ipython3",
   "version": "3.9.7"
  }
 },
 "nbformat": 4,
 "nbformat_minor": 5
}
